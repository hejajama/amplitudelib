{
 "cells": [
  {
   "cell_type": "markdown",
   "metadata": {},
   "source": [
    "# Castor analysis"
   ]
  },
  {
   "cell_type": "code",
   "execution_count": 1,
   "metadata": {},
   "outputs": [],
   "source": [
    "import sys\n",
    "sys.path.append(\"/Users/hejajama/lib/\")\n",
    "from matplotlibhelper import *\n",
    "import matplotlib.pylab as plt\n",
    "plt.style.use('classic')\n",
    "import scipy.integrate\n",
    "import scipy.interpolate\n",
    "import math\n",
    "from numpy import fft\n",
    "\n",
    "matplotlib.rc('axes.formatter', useoffset=False)\n",
    "\n",
    "%matplotlib inline"
   ]
  },
  {
   "cell_type": "markdown",
   "metadata": {},
   "source": [
    "$\\LaTeX$ definitions \n",
    "$\\newcommand{\\der}{\\mathrm{d}}$\n",
    "$\\newcommand{\\bt}{{\\mathbf{b}_T}}$"
   ]
  },
  {
   "cell_type": "code",
   "execution_count": null,
   "metadata": {},
   "outputs": [],
   "source": []
  },
  {
   "cell_type": "markdown",
   "metadata": {},
   "source": [
    "# Constants and options"
   ]
  },
  {
   "cell_type": "markdown",
   "metadata": {},
   "source": [
    "Fix constants etc\n",
    "<br />\n",
    "<br />\n",
    "Note that all constants here are in GeV^n"
   ]
  },
  {
   "cell_type": "code",
   "execution_count": 2,
   "metadata": {},
   "outputs": [],
   "source": [
    "mbgevsqr=2.568\n",
    "fmgev=5.068\n",
    "# MVe\n",
    "sigma02 = 16.36*mbgevsqr\n",
    "\n",
    "# Minimum bias\n",
    "minb=0\n",
    "maxb=99\n",
    "switch_proton_b=30\n",
    "bstep=2\n",
    "bvals=range(minb,switch_proton_b+1,bstep)\n",
    "\n",
    "R=0.5   # Jet radius\n",
    "\n",
    "sqrts=5020\n",
    "if sqrts==5020 or sqrts==7000:\n",
    "    sigmann=70 * mbgevsqr\n",
    "    #sigmainel_pA = 2130*mbgevsqr # some glauber estimate\n",
    "    sigmainel_pA=2061*mbgevsqr # doi.org/10.1016/j.physletb.2016.06.027\n",
    "elif sqrts==8800:\n",
    "    sigmann=75*mbgevsqr\n",
    "elif sqrts==200:\n",
    "    sigmann=42*mbgevsqr\n",
    "    \n",
    "A = 208\n",
    "\n",
    "sigma_eff = 15*mbgevsqr # sigma_effective in pp DPS\n",
    "    \n",
    "\n",
    "energy_bin = 10   #width of the energy bin \n",
    "min_energy = 10+energy_bin/2\n",
    "max_energy = 1510+energy_bin/2\n",
    "\n",
    "energy_3ps = range(305,min(max_energy,3005), 100)\n",
    "energy_xvals = range(min_energy,max_energy,int(energy_bin))\n",
    "energy_dps = range(300+energy_bin/2,min(max_energy,3005),int(energy_bin))"
   ]
  },
  {
   "cell_type": "markdown",
   "metadata": {},
   "source": [
    "Style parameters"
   ]
  },
  {
   "cell_type": "code",
   "execution_count": 3,
   "metadata": {},
   "outputs": [],
   "source": [
    "legfont=16\n",
    "output_dir = \"/Users/hejajama/Dropbox/nootit/castor/figs/\"\n",
    "output_dir_paper = \"/Users/hejajama/Dropbox/artikkelit/castor_jet/figs/\"\n",
    "lw=1.5 # line width\n",
    "\n",
    "#datadir=\"/Users/hejajama/data/castor/p_Pb_sqrts_5020_m_0.2_intpoints_9_lowpt_1_smallstep_smallbin/\"\n",
    "datadir=\"/Users/hejajama/data/castor/taito/p_Pb_sqrts_5020_m_0.2_lowpt_0.5_intpoints_8_bin_10_eta_smalle/\"\n",
    "datadir_smallm=\"/Users/hejajama/data/castor/taito/p_Pb_sqrts_5020_m_0.1_lowpt_1.0_intpoints_8_lowpt_1_smallstep_smallbin_pt_eta/\"\n",
    "datadir_largem=\"/Users/hejajama/data/castor/taito/p_Pb_sqrts_5020_m_1.0_lowpt_1.0_intpoints_8_smallstep_smallbin_pt_eta//\"\n",
    "\n",
    "datadir_dps=\"/Users/hejajama/data/castor/taito/p_Pb_dps_sqrts_5020_m_0.2_lowpt_1.0_mcintpoints_5e6_bin_10_eta/\"\n",
    "datadir_3ps = \"/Users/hejajama/data/castor/taito/p_Pb_3ps_sqrts_5020_m_0.2_lowpt_1.0_mcintpoints_1e7_bin_10_eta/\"\n",
    "\n",
    "rc(\"xtick\", labelsize=legfont-2)\n",
    "rc(\"ytick\", labelsize=legfont-2)"
   ]
  },
  {
   "cell_type": "markdown",
   "metadata": {
    "heading_collapsed": true
   },
   "source": [
    "# Optical Glauber"
   ]
  },
  {
   "cell_type": "code",
   "execution_count": 4,
   "metadata": {
    "hidden": true
   },
   "outputs": [],
   "source": [
    "def RA(A):\n",
    "    return fmgev*(1.12*pow(A, 1.0/3.0) - 0.86*pow(A, -1.0/3.0))\n",
    "def Nbin(b, A):\n",
    "    return A*TA(b,A)*sigmann\n",
    "def rho_inel(b, A, sigmann):\n",
    "    return 1.0 - exp(-A * TA(b,A) * sigmann)"
   ]
  },
  {
   "cell_type": "markdown",
   "metadata": {
    "hidden": true
   },
   "source": [
    "$\\int d^2b \\rho_\\text{inel}(b)$ is normalization constant \n",
    "rho_inel is defined in matplotlibhelper as 1.0 - exp(-A * TA(b,A) * sigmann)"
   ]
  },
  {
   "cell_type": "code",
   "execution_count": 5,
   "metadata": {
    "hidden": true
   },
   "outputs": [],
   "source": [
    "def OpticalGlauberNormalization(A):\n",
    "    normlist = []\n",
    "    normlist_b = []\n",
    "    b=minb\n",
    "    while b<=maxb:\n",
    "        normlist_b.append(b)\n",
    "        normlist.append(2.0*pi*b*rho_inel(b, A, sigmann))\n",
    "        b=b+0.1\n",
    "    normalization = scipy.integrate.simps(normlist, normlist_b)\n",
    "    return normalization"
   ]
  },
  {
   "cell_type": "markdown",
   "metadata": {
    "hidden": true
   },
   "source": [
    "First note that contribution at Q_s < Q_s,p is computed in pp collisions and normalized by N_bin, in order to have R_pA contribution 1"
   ]
  },
  {
   "cell_type": "code",
   "execution_count": 6,
   "metadata": {
    "hidden": true
   },
   "outputs": [],
   "source": [
    "#nbin integral for the proton part\n",
    "def NBin_proton(A):\n",
    "    nbinvals=[]\n",
    "    nbinvals_blist=[]\n",
    "    b=switch_proton_b\n",
    "    while b<=maxb:\n",
    "        nbinvals_blist.append(b)\n",
    "        nbinvals.append(2.0*pi*b*Nbin(b, A))\n",
    "        b=b+0.1\n",
    "    if len(nbinvals)==0:\n",
    "        nbin_proton_coef=0\n",
    "    else:\n",
    "        nbin_proton_coef = scipy.integrate.simps(nbinvals, nbinvals_blist)\n",
    "    return nbin_proton_coef\n"
   ]
  },
  {
   "cell_type": "code",
   "execution_count": 7,
   "metadata": {
    "hidden": true
   },
   "outputs": [],
   "source": [
    "def AverageNBin(A,bmin,bmax):\n",
    "    b=bmin\n",
    "    integrand=[]\n",
    "    normalization_integrand=[]\n",
    "    bvals=[]\n",
    "    while b < bmax:\n",
    "        integrand.append(2.0*pi*b*Nbin(b,A))\n",
    "        normalization_integrand.append(2.0*pi*b*rho_inel(b,A,sigmann))\n",
    "        bvals.append(b)\n",
    "        b=b+0.1\n",
    "    \n",
    "    return scipy.integrate.simps(integrand,bvals)/scipy.integrate.simps(normalization_integrand, bvals)\n",
    "\n",
    "    "
   ]
  },
  {
   "cell_type": "markdown",
   "metadata": {
    "hidden": true
   },
   "source": [
    "Note: $T_A$ is defined such that $\\int d^2 b T_A(b)=1$"
   ]
  },
  {
   "cell_type": "code",
   "execution_count": 8,
   "metadata": {
    "hidden": true
   },
   "outputs": [],
   "source": [
    "def AverageTA(A,bmin,bmax):\n",
    "    b=bmin\n",
    "    integrand=[]\n",
    "    normalization_integrand=[]\n",
    "    bvals=[]\n",
    "    while b < bmax:\n",
    "        integrand.append(2.0*pi*b*TA(b,A))\n",
    "        normalization_integrand.append(2.0*pi*b*rho_inel(b,A,sigmann))\n",
    "        bvals.append(b)\n",
    "        b=b+0.1\n",
    "    \n",
    "    return scipy.integrate.simps(integrand,bvals)/scipy.integrate.simps(normalization_integrand, bvals)\n",
    "\n",
    "    "
   ]
  },
  {
   "cell_type": "code",
   "execution_count": 9,
   "metadata": {
    "hidden": true
   },
   "outputs": [],
   "source": [
    "\n",
    "nuclear_yield_to_xs = 1.0/AverageTA(208,0,99)"
   ]
  },
  {
   "cell_type": "markdown",
   "metadata": {
    "hidden": true
   },
   "source": [
    "$$\\int d^2 b (A T_A(b))^2$$\n",
    "\n",
    "To match calculations where $T_A$ integral is normalized to $A$, approximate result $A^2 / \\pi R_A^2$"
   ]
  },
  {
   "cell_type": "code",
   "execution_count": 10,
   "metadata": {
    "hidden": true
   },
   "outputs": [],
   "source": [
    "def Tsqr_with_A_integrate(A):\n",
    "    # Approx result A*A/(pi*pow(1.13*fmgev,2)*pow(A,2.0/3.0))\n",
    "    integrand=[]\n",
    "    bvals=[]\n",
    "    b=0\n",
    "    bmax=99\n",
    "    while b < bmax:\n",
    "        integrand.append(2.0*pi*b*A*A*pow(TA(b,A),2))\n",
    "        bvals.append(b)\n",
    "        b=b+0.1\n",
    "    \n",
    "    return  scipy.integrate.simps(integrand,bvals)"
   ]
  },
  {
   "cell_type": "code",
   "execution_count": 11,
   "metadata": {
    "hidden": true
   },
   "outputs": [
    {
     "data": {
      "text/plain": [
       "398336.17613447091"
      ]
     },
     "execution_count": 11,
     "metadata": {},
     "output_type": "execute_result"
    }
   ],
   "source": [
    "Tsqr_with_A_integrate(208)*sigmann*sigmann"
   ]
  },
  {
   "cell_type": "code",
   "execution_count": 12,
   "metadata": {
    "hidden": true
   },
   "outputs": [
    {
     "data": {
      "text/plain": [
       "37390.08"
      ]
     },
     "execution_count": 12,
     "metadata": {},
     "output_type": "execute_result"
    }
   ],
   "source": [
    "A*sigmann"
   ]
  },
  {
   "cell_type": "markdown",
   "metadata": {
    "heading_collapsed": true
   },
   "source": [
    "# Handle files"
   ]
  },
  {
   "cell_type": "code",
   "execution_count": 13,
   "metadata": {
    "hidden": true
   },
   "outputs": [],
   "source": [
    "def ReadExpData(fname):\n",
    "    evals_exp=[]\n",
    "    exp_spectra=[]\n",
    "    binwidth=[]\n",
    "    pluserr=[]\n",
    "    minuserr=[]\n",
    "    tmp=[]\n",
    "    fname=fname\n",
    "    readfile_xy(fname,evals_exp, exp_spectra)\n",
    "    readfile_xy(fname,tmp,  binwidth, ycol=2)\n",
    "    readfile_xy(fname,minuserr, pluserr, xcol=4, ycol=5)\n",
    "    \n",
    "    return [evals_exp, exp_spectra, binwidth, minuserr, pluserr]\n"
   ]
  },
  {
   "cell_type": "code",
   "execution_count": 14,
   "metadata": {
    "hidden": true
   },
   "outputs": [],
   "source": [
    "def Read_pA_data(datadir):\n",
    "    # interpolators for every b\n",
    "    interpolators=[]\n",
    "    proton_interpolator=False\n",
    "\n",
    "    xvals=[]\n",
    "    \n",
    "    for b in bvals:\n",
    "        fname = datadir + \"pA_b_\" + str(b) \n",
    "\n",
    "        xdata=[]\n",
    "        ydata=[]\n",
    "        tmp=[]\n",
    "        e2col=[]\n",
    "        \n",
    "        try:\n",
    "            readfile_xy(fname, xdata, ydata,xcol=0, ycol=2)\n",
    "            readfile_xy(fname, tmp, e2col, ycol=1)\n",
    "        except IOError:\n",
    "            sys.stderr.write(\"ERROR: Nukefile \" + fname + \" does not exist\\n\")\n",
    "            sys.exit(-1)\n",
    "        except ValueError:\n",
    "            sys.stderr.write(\"ERROR: Nukefile \" + fname + \" is invalid\\n\")\n",
    "\n",
    "            \n",
    "        if e2col[0] - xdata[0] != energy_bin:\n",
    "            print \"ERROR! Bin width parameter is not the same as the bin width in data!\"\n",
    "            print \"Parameter \" + str(energy_bin) + \", lower \" + str(xdata[0]) + \" upper \" + str(e2col[0])\n",
    "            print fname\n",
    "            \n",
    "        # Shift xdata to bin center\n",
    "        for i in range(len(xdata)):\n",
    "            xdata[i] = xdata[i] + energy_bin/2.0\n",
    "        \n",
    "        if (b==minb):\n",
    "            xvals=xdata\n",
    "        \n",
    "        #print xdata\n",
    "        interp=scipy.interpolate.interp1d(xdata, ydata, kind=\"cubic\")\n",
    "\n",
    "        interpolators.append(interp)           \n",
    "        \n",
    "        \n",
    "        ##### Proton\n",
    "        \n",
    "    if float(switch_proton_b) < float(maxb):\n",
    "        xdata_proton=[]\n",
    "        ydata_proton=[]\n",
    "        try:\n",
    "            readfile_xy(datadir + \"pp\", xdata_proton, ydata_proton, xcol=0, ycol=2)\n",
    "        except IOError:\n",
    "            sys.stderr.write(\"ERROR: Proton file \" + proton_file + \" does not exist\\n\")\n",
    "            sys.exit(-1)\n",
    "        except ValueError:\n",
    "            sys.stderr.write(\"ERROR: Proton file \" + proton_file +\" is invalid\\n\")\n",
    "            sys.exit(-1)\n",
    "\n",
    "        for i in range(len(xdata_proton)):\n",
    "            xdata_proton[i] = xdata_proton[i] + energy_bin/2.0\n",
    "\n",
    "\n",
    "        try:\n",
    "            proton_interpolator = scipy.interpolate.interp1d(xdata_proton, ydata_proton, kind=\"cubic\")\n",
    "        except ValueError:\n",
    "            sys.stederr.write(\"ERROR: Too few proton datapoints (\" + str(len(ydata)) +\"), file \" + proton_filename)\n",
    "            sys.exit(-1)\n",
    "    \n",
    "    print \"Data \" + datadir + \" read at energy values \"\n",
    "    print xvals\n",
    "    \n",
    "    return [interpolators,proton_interpolator]\n",
    "        \n",
    "\n",
    "    \n",
    "def Read_Ap_data(datadir):\n",
    "        fname = datadir + \"/Ap\"\n",
    "        xdata=[]\n",
    "        ydata=[]\n",
    "        readfile_xy(fname, xdata, ydata, ycol=2)\n",
    "        for i in range(len(xdata)):\n",
    "            xdata[i] = xdata[i] + energy_bin/2.0\n",
    "        \n",
    "        return scipy.interpolate.interp1d(xdata, ydata, kind=\"cubic\")"
   ]
  },
  {
   "cell_type": "code",
   "execution_count": null,
   "metadata": {
    "hidden": true
   },
   "outputs": [],
   "source": []
  },
  {
   "cell_type": "code",
   "execution_count": 15,
   "metadata": {
    "hidden": true
   },
   "outputs": [],
   "source": [
    "def Read_xy(fname, xlist, ylist, xcol=0, ycol=1):\n",
    "    f = open(fname,\"r\")\n",
    "    lines=f.readlines()\n",
    "    n=len(lines)\n",
    "\n",
    "    for i in range(n):\n",
    "        s=lines[i].split()\n",
    "        if s[0][0]!=\"#\":\n",
    "            xlist.append(float(s[xcol]))\n",
    "            ylist.append(float(s[ycol]))\n",
    "    f.close()"
   ]
  },
  {
   "cell_type": "markdown",
   "metadata": {},
   "source": [
    "# Compute  yield integrating over impact parameter"
   ]
  },
  {
   "cell_type": "code",
   "execution_count": 16,
   "metadata": {},
   "outputs": [],
   "source": [
    "def Yield(interpolators,proton_interpolator,energyvals):\n",
    "    invariant_yield=[]\n",
    "    proton_contribution=[]   # save fractional contribution from pp-like region, for fun\n",
    "    nbin_A = NBin_proton(A)\n",
    "    glauber_norm = OpticalGlauberNormalization(A)\n",
    "    for x in energyvals:\n",
    "\n",
    "        intvals=[]\n",
    "        i=0\n",
    "        for i in range(len(bvals)):\n",
    "            #try:\n",
    "            intvals.append(interpolators[i](x)*2.0*pi*bvals[i])\n",
    "            #except ValueError as detail:\n",
    "            #    sys.stderr.write(\"ValueError: x=\" + str(x) + \"\\n\")\n",
    "            #    print detail\n",
    "            #    sys.exit(1)\n",
    "            if (interpolators[i](x)*2.0*pi*bvals[i] < 0):\n",
    "                if interpolators[i](x)*2.0*pi*bvals[i] < -1: #-1e-10:\n",
    "                    print \"#WWWTTTTTTTFFFFFFFFFF, b=\" + str(bvals[i]) +\" pt \" + str(x) + \" interp \" + str(interpolators[i](x)*2.0*pi*bvals[i])\n",
    "                    sys.exit(1)\n",
    "                else:\n",
    "                    intvals[-1]=0\n",
    "        bintres = scipy.integrate.simps(intvals, bvals)\n",
    "        ppres=0\n",
    "        if float(switch_proton_b) < float(maxb):\n",
    "            #try:\n",
    "            ppres = sigma02/sigmann*nbin_A * proton_interpolator(x)\n",
    "            #except ValueError:\n",
    "            #    sys.stderr.write(\"ValueError: x=\" + str(x) + \"\\n\")\n",
    "            #    sys.exit(1)\n",
    "        res = (bintres + ppres)/glauber_norm\n",
    "        invariant_yield.append(res)\n",
    "        proton_contribution.append(ppres/res)\n",
    "    \n",
    "    return invariant_yield\n"
   ]
  },
  {
   "cell_type": "markdown",
   "metadata": {},
   "source": [
    "# Compute DPS contribution"
   ]
  },
  {
   "cell_type": "markdown",
   "metadata": {},
   "source": [
    "Idea here is that DPS cross section is\n",
    "$$\\frac{d\\sigma^{DPS}}{d[PS]_1 d[PS]_2} = \\frac{1}{2} \\frac{1}{\\sigma_\\text{eff}} \\frac{d\\sigma}{d[PS]_1} \\frac{d\\sigma}{d[PS]_2} $$ \n",
    "\n",
    "<br />\n",
    "\n",
    "The factor $1/2$ originates as the two jets can not be distinguished (<b>Avoid double counting</b>), see http://iopscience.iop.org/article/10.1088/1742-6596/706/5/052031\n",
    "\n",
    "We note that cross sections are integrated over azimuth, but the DPS contribution is only seen if the two partons end up in the same jet, in which case azimuthal angles must be close to each other.\n",
    "\n",
    "Castor note says that\n",
    "<i>The energy measurement of all channels in a CASTOR sector are summed into a CASTOR tower. These towers are clustered with the anti-kT [28] algorithm with a radius of 0.5 into CASTOR jets, which have their η coordinate is fixed to the geometrical centre of the sector.</i> [https://cds.cern.ch/record/2258273/files/FSQ-17-001-pas.pdf]\n",
    "\n",
    "We mimic this effect (for now?) by requiring that just azimuthal angle difference is less than $R=0.5$. We assume that double parton distribution function factorizes\n",
    "\n",
    "<br />\n",
    "<br />\n",
    "What is $\\sigma_\\text{inel}$? In case of $pp$, we can use the experimental value $S_T=\\sigma_\\text{eff}=15$ mb, which is surprisingly small. \n",
    "\n",
    "In case of pA/Ap we fllow https://arxiv.org/pdf/1607.04023.pdf \n",
    "<br />\n",
    "<br />\n",
    "In pA, we have only \"DPS 2\" contribution from that Ref, and the DPS contribution is\n",
    "$$\\sigma^\\text{DPS}_\\text{pA} = \\sigma^\\text{DPS}_\\text{pp} \\sigma_\\text{eff}^{pp} F_{pA}$$\n",
    "with the $pp$ DPS cross section and $\\sigma_\\text{eff}$, and\n",
    "$$F_{pA} = \\frac{A-1}{A} \\int d^2 b T_{pA}^2 \\approx \\frac{ (A-1)A}{\\pi R_A^2}$$\n",
    "where the last approximation is obtained by assuming homogeneous spherical nucleus. Problem here is that no nuclear effects are included...\n",
    "<br />\n",
    "<br />\n",
    "Nulcear effects can be included by replacing the pp cross section by $1/A \\times$ pA cross section.\n",
    "<br />\n",
    "<br />\n",
    "In Ap, we have the flux of incoming partons enhanced by A, and the DPS cross section is\n",
    "$$\\sigma^\\text{DPS}_\\text{Ap} = A \\sigma_{pp}^\\text{DPS}$$\n",
    "To take into account nuclear PDF effect, $\\sigma_{pp}$ should be computed using nuclear PDFs\n",
    "<br />\n",
    "<br />\n",
    "First, we define here functions to take care of this factorized case (no double parton distribution function)"
   ]
  },
  {
   "cell_type": "code",
   "execution_count": 17,
   "metadata": {},
   "outputs": [],
   "source": [
    "# cross_section is an interpolator for dsigma/dE\n",
    "def DPS_cross_section(evals, cross_section, sigmaeff):\n",
    "    # Only include part of the spectrum where azimuthal angle difference is 0.5\n",
    "    # This is just a prefactor R/2pi\n",
    "    \n",
    "    \n",
    "    result=[]\n",
    "    \n",
    "    \n",
    "    \n",
    "    for energy in evals:\n",
    "    \n",
    "        minE=min_energy\n",
    "        maxE=max_energy\n",
    "        if energy <= minE:\n",
    "            result.append(0)\n",
    "            continue\n",
    "\n",
    "\n",
    "        # now E1+E2=energy\n",
    "        e1vals=np.linspace(minE,energy,100)\n",
    "        e2vals=energy-e1vals\n",
    "\n",
    "        #print e1vals\n",
    "        #print e2vals\n",
    "\n",
    "        dpsvals = [cross_section(e1)*cross_section(e2) for e1,e2 in zip(e1vals,e2vals) if e1>minE and e2>minE and e1 < maxE and e2<maxE ]\n",
    "        evals = [e1 for e1,e2 in zip(e1vals,e2vals) if e1>minE and e2>minE and e1 < maxE and e2<maxE]\n",
    "        dpsvals = 0.5 * np.array(dpsvals) * R/(2.0*pi)*1.0/sigmaeff \n",
    "        \n",
    "       \n",
    "        if len(dpsvals)<2:\n",
    "            result.append(0)\n",
    "        else:        \n",
    "            result.append(scipy.integrate.simps(dpsvals,evals))\n",
    "    return result\n",
    "    \n",
    "    \n",
    "    "
   ]
  },
  {
   "cell_type": "code",
   "execution_count": 18,
   "metadata": {},
   "outputs": [],
   "source": [
    "# Compute DPS contribution to pA\n",
    "# pA_cross_section is interpolator, units mb/GeV\n",
    "# sigmaeff is pp sigma_eff, units mb\n",
    "def pA_DPS_factorized(evals, pA_cross_section, sigmaeff,A):\n",
    "    #FpA = (A-1.0)*A/(pi*RA(A)*RA(A))/mbgevsqr\n",
    "    FpA = (A-1.0)/A * Tsqr_with_A_integrate(A)\n",
    "    # F_pA is now in 1 / (Gev^(-2)) = GeV^2, convert to 1/mb\n",
    "    FpA = FpA * mbgevsqr\n",
    "    # Scale 1/A^2, as we feed in pA cross section which gives two extra powers of A\n",
    "    dps_to_pA = 1.0/(A*A)*np.array(DPS_cross_section(evals, pA_cross_section, sigmaeff))* FpA * sigmaeff\n",
    "    return dps_to_pA\n",
    " \n",
    "#In Ap DPS, Ap_cross_section = nPDF * A * pp_cross_section, thus there is no prefactor A, but instead 1/A \n",
    "# originating from A * 1/A^2 * (DPS computed using AP interpolator)\n",
    "def Ap_DPS(evals, Ap_cross_section, sigmaeff,A):\n",
    "    return  1.0/A * np.array(DPS_cross_section(evals, Ap_cross_section, sigmaeff))"
   ]
  },
  {
   "cell_type": "markdown",
   "metadata": {},
   "source": [
    "DPS contribution for pA is normalized by this, note that this is significantly larger than $A$, as discussed in the Ref. (=> DPS in pA is enhanced)"
   ]
  },
  {
   "cell_type": "code",
   "execution_count": 19,
   "metadata": {},
   "outputs": [
    {
     "data": {
      "text/plain": [
       "472.55995895073636"
      ]
     },
     "execution_count": 19,
     "metadata": {},
     "output_type": "execute_result"
    }
   ],
   "source": [
    "(A-1.0)/A * Tsqr_with_A_integrate(A) * sigma_eff"
   ]
  },
  {
   "cell_type": "markdown",
   "metadata": {},
   "source": [
    "### DPS from explicit calculation"
   ]
  },
  {
   "cell_type": "markdown",
   "metadata": {},
   "source": [
    "We shall mostly use kinematically constrained double parton distribution function which requires us to compute using the C++ code integrla over both pt's and y's. Here we just read the result of this calculation and include proper prefactors.  The code computes\n",
    "\\begin{equation}\n",
    "\\begin{split}\n",
    "\\frac{d N^{DPS}(b_T)}{\\Delta E} =    \\int d y_1 d y_2 d p_{T,1} d p_{T,2} \\theta(E_1 + E_2 \\in E, y_1,y_2 \\in \\text{CASTOR})  \\\\  \n",
    "\t\\times \\frac{1}{(2\\pi)^4} D_{ij}(x_1,x_2)  S_A(p_{T,1},x_1,b_T) S_A(p_{T,2},x_2,\\bt)\t\n",
    "\\end{split}\n",
    "\\end{equation}\n",
    "and we have to add factors\n",
    "$$\\frac{R}{2\\pi}\\frac{1}{2} \\frac{1}{\\Delta E}$$\n",
    "See note for details"
   ]
  },
  {
   "cell_type": "code",
   "execution_count": 61,
   "metadata": {},
   "outputs": [],
   "source": [
    "def Read_pA_DPS(data, energies):\n",
    "    [nuke_dps_interpolators,proton_dps_interpolator] = Read_pA_data(data)\n",
    "    invariant_nuke_dps_yield = Yield(nuke_dps_interpolators, proton_dps_interpolator, energies)\n",
    "\n",
    "    nuke_dps_cross_section=nuclear_yield_to_xs/energy_bin * np.array(invariant_nuke_dps_yield)\n",
    "\n",
    "    # Change units to mb, now GeV^(-2)\n",
    "    scale_list(nuke_dps_cross_section, 1.0/mbgevsqr)\n",
    "    \n",
    "    # Azimuthal closeness and double counting\n",
    "    scale_list(nuke_dps_cross_section, 1.0/2.0 * R/(2.0*pi))\n",
    "    \n",
    "    return nuke_dps_cross_section"
   ]
  },
  {
   "cell_type": "code",
   "execution_count": 62,
   "metadata": {},
   "outputs": [],
   "source": [
    "def Read_pp_DPS(datadir_dps, energies):\n",
    "    # Read pp DPS xs\n",
    "    pp_dps_kc_e=[]\n",
    "    pp_dps_kc_xs=[]\n",
    "    Read_xy(datadir_dps +\"/pp\", pp_dps_kc_e, pp_dps_kc_xs, xcol=0, ycol=2)\n",
    "    for i in range(len(pp_dps_kc_e)):\n",
    "        pp_dps_kc_e[i] = pp_dps_kc_e[i] +  energy_bin/2.0\n",
    "    \n",
    "    # Yiled -> xs, units GeV^-2 -> mb, azimuthal closenss and jet algorithm, normalize bin width\n",
    "    pp_dps_kc_xs = np.array(pp_dps_kc_xs) * sigma02*sigma02/sigma_eff/mbgevsqr*1.0/2.0*R/(2.0*pi)/energy_bin\n",
    "    pp_dps_interpolator = scipy.interpolate.interp1d(pp_dps_kc_e, pp_dps_kc_xs, kind=\"cubic\")\n",
    "    \n",
    "    return pp_dps_interpolator(energies)"
   ]
  },
  {
   "cell_type": "markdown",
   "metadata": {
    "heading_collapsed": true
   },
   "source": [
    "### 3 particle production"
   ]
  },
  {
   "cell_type": "markdown",
   "metadata": {
    "hidden": true
   },
   "source": [
    "\\begin{equation}\n",
    "\\begin{split}\n",
    "\\frac{d N^{DPS}(b_T)}{\\Delta E} =  \\left(\\frac{R}{2\\pi}\\right)^2\\frac{1}{3!} \\frac{1}{\\Delta E}  \\int d y_1 d y_2 d y_3 d p_{T,1} d p_{T,2}  d p_{T,3} \\theta(E_1 + E_2 + E_3 \\in E, y_1,y_2,y_3 \\in \\text{CASTOR})  \\\\  \n",
    "\t\\times \\frac{1}{(2\\pi)^6} D_{ijl}(x_1,x_2,x_3)  S_A(p_{T,1},x_1,b_T) S_A(p_{T,2},x_2,b_T) S_A(p_{T,3},x_3,b_T)\t\n",
    "\\end{split}\n",
    "\\end{equation}\n",
    "\n",
    "The C++ code does not include factors $\\left(\\frac{R}{2\\pi}\\right)^2\\frac{1}{3!} $"
   ]
  },
  {
   "cell_type": "code",
   "execution_count": 22,
   "metadata": {
    "hidden": true
   },
   "outputs": [],
   "source": [
    "def Read_pA_3PS(data, energies):\n",
    "    [nuke_3ps_interpolators,proton_3ps_interpolator] = Read_pA_data(data)\n",
    "    invariant_nuke_3ps_yield = Yield(nuke_3ps_interpolators, proton_3ps_interpolator, energies)\n",
    "\n",
    "    nuke_3ps_cross_section=nuclear_yield_to_xs/energy_bin * np.array(invariant_nuke_3ps_yield)\n",
    "\n",
    "    # Change units to mb, now GeV^(-2)\n",
    "    scale_list(nuke_3ps_cross_section, 1.0/mbgevsqr)\n",
    "    \n",
    "    # Azimuthal closeness and double counting\n",
    "    scale_list(nuke_3ps_cross_section, 1.0/(3.0*2.0) * math.pow(R/(2.0*pi), 2.0))\n",
    "    \n",
    "    return nuke_3ps_cross_section"
   ]
  },
  {
   "cell_type": "markdown",
   "metadata": {},
   "source": [
    "## Exponential Ap DPS"
   ]
  },
  {
   "cell_type": "markdown",
   "metadata": {},
   "source": [
    "Follow https://lib-extopc.kek.jp/preprints/PDF/1988/8812/8812033.pdf but with extra $(R/(2\\pi)^{N-1}$ exponent. The resulting spectra which sums 1->inf parton scattering is (<b>I'm not sure about prefactor, should I get some $\\sigma_\\text{eff}$?)\n",
    "\n",
    "\\begin{equation}\n",
    "\\frac{\\der \\sigma^\\text{jet}}{\\der E} = \\int \\der^2 \\bt \\frac{2\\pi}{R}  \\frac{1}{\\sqrt{2\\pi \\langle E^2 \\rangle \\frac{R}{2\\pi}}} \\exp \\left[ -\\frac{ \\left( E - \\frac{R}{2\\pi} \\langle E \\rangle \\right)^2}{\\frac{R}{2\\pi} 2\\langle E^2 \\rangle} \\right]   \\times\\exp\\left\\{ -A T_A(\\bt)  \\sigma_\\text{tot} \\left(1  - \\frac{R}{2\\pi} \\right)  \\right\\}  \n",
    "\\end{equation}\n",
    "\n",
    "OR, if we define that we only think about $R/2\\pi$ detector, and $\\der \\sigma$ is the cross section in that azimuth, then we get just\n",
    "\\begin{equation}\n",
    "\\frac{\\der \\sigma^\\text{jet}}{\\der E} = \\int \\der^2 \\bt \\frac{2\\pi}{R}  \\frac{1}{\\sqrt{2\\pi \\langle E^2 \\rangle }} \\exp \\left[ -\\frac{ \\left( E -  \\langle E \\rangle \\right)^2}{ 2\\langle E^2 \\rangle} \\right]  \n",
    "\\end{equation}\n",
    "\n",
    "where the prefactor $2\\pi/R$ scales the result to the full detector"
   ]
  },
  {
   "cell_type": "markdown",
   "metadata": {},
   "source": [
    "Compute nth moment of the cross section, returns\n",
    "    \\begin{equation}\n",
    "    \\langle E^n \\rangle = A T_A(b) \\int dE \\frac{d \\sigma}{d E}E^n\n",
    "    \\end{equation}"
   ]
  },
  {
   "cell_type": "code",
   "execution_count": 74,
   "metadata": {},
   "outputs": [],
   "source": [
    "def SpectraMomenta(n, interp, Rcone):\n",
    "    ''' Momenta without A T_A'''\n",
    "    ''' Note that interpolator is Ap interpolator, but we compute pp momenta, so scale by 1/A'''\n",
    "    \n",
    "    #mbgevsqr as Ap_interpolator is in mb/GeV, but we want mb->GeV^-2\n",
    "    f=lambda e: 1.0/A*interp(e)*mbgevsqr*pow(e,n)*Rcone/(2*pi)\n",
    "    \n",
    "    return scipy.integrate.quad(f,min_energy+energy_bin, max_energy-energy_bin)[0]\n",
    "    "
   ]
  },
  {
   "cell_type": "code",
   "execution_count": 75,
   "metadata": {},
   "outputs": [],
   "source": [
    "def nPS_cross_section_Ap_bintegrand(b,ene,mom1,mom2,Rcone,totxs):\n",
    "    # Add A T_A factors\n",
    "    ta=TA(b,A)\n",
    "    mom1 = mom1*A*ta\n",
    "    mom2 = mom2*A*ta\n",
    "    \n",
    "    r2pi=Rcone/(2.0*pi)\n",
    "    \n",
    "    return 2.0*pi*b*1.0/sqrt(2.0*pi*mom2) * exp(-pow(ene - mom1,2.0)/(2*mom2) )\n",
    "    #return 2.0*pi*b*1.0/sqrt(2.0*pi*mom2*r2pi) * exp(-pow(ene - r2pi*mom1,2.0)/(r2pi*2*mom2) ) * exp(- A*totxs*ta*(1.0-r2pi) )"
   ]
  },
  {
   "cell_type": "code",
   "execution_count": 119,
   "metadata": {},
   "outputs": [],
   "source": [
    "def nPS_cross_section_Ap_bintegrand_suppression(b,ene,mom1,mom2,Rcone,totxs):\n",
    "    '''Same as nPS_cross_section_Ap_bintegrand, but we consider dsigma^pp/dE to be\n",
    "    total xs, not scale that by R/2pi, but instead add extra suppression factor'''\n",
    "    # Add A T_A factors\n",
    "    ta=TA(b,A)\n",
    "    mom1 = mom1*A*ta\n",
    "    mom2 = mom2*A*ta\n",
    "    \n",
    "    r2pi=Rcone/(2.0*pi)\n",
    "    \n",
    "    return 2.0*pi*b*1.0/sqrt(2.0*pi*mom2) * exp(-pow(ene - mom1,2.0)/(2*mom2) ) * exp(-A*ta*totxs*(1-Rcone/(2*pi)))\n",
    "    #return 2.0*pi*b*1.0/sqrt(2.0*pi*mom2*r2pi) * exp(-pow(ene - r2pi*mom1,2.0)/(r2pi*2*mom2) ) * exp(- A*totxs*ta*(1.0-r2pi) )"
   ]
  },
  {
   "cell_type": "code",
   "execution_count": 80,
   "metadata": {},
   "outputs": [],
   "source": [
    "def nPS_cross_section_Ap(interp, energies, Rcone=R):\n",
    "    mom1 = SpectraMomenta(1, interp, Rcone)\n",
    "    mom2 = SpectraMomenta(2,interp, Rcone)\n",
    "    \n",
    "    totxsf = lambda e: 1.0/A*interp(e)*mbgevsqr*Rcone/(2.0*pi)\n",
    "    totxs= scipy.integrate.quad(totxsf, min_energy+energy_bin, max_energy-energy_bin)[0]\n",
    "    \n",
    "    \n",
    "    res = [scipy.integrate.quad(nPS_cross_section_Ap_bintegrand, 0, 80, args=(ene,mom1,mom2,Rcone,totxs))[0] for ene in energies ]\n",
    "\n",
    "    return 2.0*pi/Rcone * np.array(res) / mbgevsqr  # return in mb/GeV"
   ]
  },
  {
   "cell_type": "code",
   "execution_count": 120,
   "metadata": {},
   "outputs": [],
   "source": [
    "def nPS_cross_section_Ap_suppression(interp, energies, Rcone=R):\n",
    "    mom1 = SpectraMomenta(1, interp, Rcone)\n",
    "    mom2 = SpectraMomenta(2,interp, Rcone)\n",
    "    # momenta are computed with Rcone, so they are R/2pi * <E> \n",
    "    # and R/2pi * <E^2>\n",
    "    \n",
    "    totxsf = lambda e: 1.0/A*interp(e)*mbgevsqr\n",
    "    totxs= scipy.integrate.quad(totxsf, min_energy+energy_bin, max_energy-energy_bin)[0]\n",
    "    \n",
    "    \n",
    "    res = [scipy.integrate.quad(nPS_cross_section_Ap_bintegrand_suppression, 0, 80, args=(ene,mom1,mom2,Rcone,totxs))[0] for ene in energies ]\n",
    "\n",
    "    return 2.0*pi/Rcone * np.array(res) / mbgevsqr  # return in mb/GeV"
   ]
  },
  {
   "cell_type": "code",
   "execution_count": 122,
   "metadata": {},
   "outputs": [
    {
     "name": "stdout",
     "output_type": "stream",
     "text": [
      "[  7.95675206e+01   1.29353320e+00   3.25020611e-66]\n",
      "[  1.17163407e+01   1.12299755e-02   1.19832882e-68]\n"
     ]
    }
   ],
   "source": [
    "# Test w Mathematica\n",
    "#SpectraMomenta(1,test_interpolator,2*pi)\n",
    "totxsf = lambda e: 1.0/A*test_interpolator(e)*mbgevsqr*2*pi/(2.0*pi)\n",
    "totxs= scipy.integrate.quad(totxsf, min_energy+energy_bin, max_energy-energy_bin)[0]\n",
    "mom1 = SpectraMomenta(1, test_interpolator, 2*pi)\n",
    "mom2 = SpectraMomenta(2,test_interpolator, 2*pi)\n",
    "#print nPS_cross_section_Ap_bintegrand(40, 100, mom1,mom2,2*pi, totxs)\n",
    "print nPS_cross_section_Ap(test_interpolator, [100,500,3000], Rcone=1)*mbgevsqr\n",
    "print nPS_cross_section_Ap_suppression(test_interpolator, [100,500,3000], Rcone=1)*mbgevsqr"
   ]
  },
  {
   "cell_type": "code",
   "execution_count": 96,
   "metadata": {},
   "outputs": [],
   "source": [
    "def nPS_cross_section_Ap_full_b(b, ene, ft_interpolator, totxs):\n",
    "    # Evaluate at E=ene, energies contains sampled energies for interpolator   \n",
    "    \n",
    "    \n",
    "    ATA = A * TA(b, A)\n",
    "    #NIntegrate[\n",
    "     #Exp[I*t]*(Exp[ATA*FTspectrum[t, ene] - ATA*totxs] - \n",
    "    #Exp[ATA*FTspectrum[t + \\[Pi], ene] - \n",
    "     # ATA*totxs]), {t, -\\[Infinity], \\[Infinity]}]\n",
    "     \n",
    "    # Note this is in dimensionless units, we have written tau' = tau * E\n",
    "    # \n",
    "    \n",
    "  \n",
    "    \n",
    "    #tauintegrand_re = lambda tau: return np.real( np.exp(ATA * ft_interpolator(tau/ene) - ATA*totxs) \\\n",
    "    #                                              - np.exp(ATA*ft_interpolator((tau+pi)/ene)-ATA*totxs))\n",
    "    tauintegrand_re = lambda tau: np.real( np.exp(ATA * ft_interpolator(tau/ene) - ATA*totxs) \\\n",
    "                                                  - np.exp(ATA*ft_interpolator((tau+pi)/ene)-ATA*totxs))\n",
    "       \n",
    "    tauintegrand_im = lambda tau: np.imag( np.exp(ATA * ft_interpolator(tau/ene) - ATA*totxs) \\\n",
    "                                                  - np.exp(ATA*ft_interpolator((tau+pi)/ene)-ATA*totxs))\n",
    "    \n",
    "    tauvals=np.linspace(-10,10,500)\n",
    "    integrand_re=[tauintegrand_re(t) for t in tauvals]\n",
    "    integrand_im=[tauintegrand_im(t) for t in tauvals]\n",
    "    \n",
    "    # real part: cos(t) * tauinteg_re - sin(t) tauinteg_im\n",
    "    # imag part: cos(t) * tauinteg_im + sin(t)*tauinteg_re\n",
    " \n",
    "    realpart = scipy.integrate.quad(tauintegrand_re, -100, 100, weight='cos', wvar=1)[0] \\\n",
    "                - scipy.integrate.quad(tauintegrand_im, -100, 100, weight='sin', wvar=1)[0]\n",
    "    #imagpart = scipy.integrate.quad(tauintegrand_im, -100, 100, weight='cos', wvar=1)[0] \\\n",
    "    #               + scipy.integrate.quad(tauintegrand_re, -100, 100, weight='sin', wvar=1)[0]\n",
    "    imagpart=0\n",
    "    #if (np.abs(imagpart/realpart) > 1):\n",
    "    #    print \"NOTE: energy \" , ene, \" b \" + str(b) + \" real \" , realpart, \" imag \" , imagpart\n",
    "    \n",
    "    #plt.plot(tauvals,integrand_re)\n",
    "    #plt.plot(tauvals,integrand_im, linestyle=Linestyle(1))\n",
    "    \n",
    "    #print \"ene \", ene, \" b \" , b, \" real \" , realpart\n",
    "    \n",
    "    if realpart < 0:\n",
    "        #print \"negative at b\" , b, \" ene \" , ene\n",
    "        return 0\n",
    "    \n",
    "    #tauinteg = scipy.integrate.quad(tauintegrand, -10000,10000)[0]\n",
    "    #return 0\n",
    "    return realpart\n",
    "    "
   ]
  },
  {
   "cell_type": "code",
   "execution_count": 106,
   "metadata": {},
   "outputs": [],
   "source": [
    "def nPS_cross_section_Ap_full(enevals, interp, energies, Rcone=R):\n",
    "    \n",
    "    totxsf = lambda e: 1.0/A*interp(e)*mbgevsqr*Rcone/(2.0*pi)\n",
    "    totxs= scipy.integrate.quad(totxsf, energies[0], energies[-1])[0]\n",
    "    \n",
    "    \n",
    "    # First we need FFT of dsigma/dE\n",
    "    # Note that interpolator is in mb/GeV, convert to GeVs\n",
    "    \n",
    "    ftintegrand = lambda ei: 1.0/A*interp(ei)*mbgevsqr*Rcone/(2*pi)\n",
    "    ft_re = lambda tau_ene: scipy.integrate.quad(ftintegrand, energies[0], energies[-1], weight='cos', wvar=tau_ene)[0]\n",
    "    ft_im = lambda tau_ene: -scipy.integrate.quad(ftintegrand, energies[0], energies[-1], weight='sin', wvar=tau_ene)[0]\n",
    "    \n",
    "    # Note: real part is symmetric, imaginary part antisymmetric\n",
    "    ft_tau_ene = np.linspace(-0.4,0,1000)\n",
    "    ft_vals = np.array([ft_re(t) for t in ft_tau_ene]) + 1j*np.array([ft_im(t) for t in ft_tau_ene])\n",
    "    for t,re,im in zip(np.flipud(ft_tau_ene[:-1]),np.flipud(np.real(ft_vals[:-1])),np.flipud(np.imag(ft_vals[:-1])) ) :\n",
    "        ft_vals=np.append(ft_vals,re - 1j*im)\n",
    "        ft_tau_ene=np.append(ft_tau_ene, -t)\n",
    "        \n",
    "\n",
    "    \n",
    "    ft_interpolator = scipy.interpolate.interp1d(ft_tau_ene, ft_vals, bounds_error=False, fill_value=0)\n",
    "    \n",
    "    #print \"Ftinterp(1.0/500.0)=\",ft_interpolator(1.0/500.0)\n",
    "    \n",
    "    \n",
    "    \n",
    "    #ft_spectrum = fft.fftshift(fft.fft(dsigma_dE))*energy_bin\n",
    "    #ft_freqs = fft.fftshift(fft.fftfreq(len(dsigma_dE))*2*pi/energy_bin)\n",
    "    #ft_interpolator = scipy.interpolate.interp1d(ft_freqs, ft_spectrum, bounds_error=False, fill_value=0)\n",
    "    \n",
    "    \n",
    "    \n",
    "    \n",
    "    \n",
    "    # Fast but not too accurate\n",
    "    results = []\n",
    "    for ene in enevals:\n",
    "        print \"# Computing E=\" + str(ene)\n",
    "        bvals=np.linspace(0,70,71)\n",
    "        integrand = [2.0*pi*b*nPS_cross_section_Ap_full_b(b, ene, ft_interpolator, totxs) for b in bvals]\n",
    "        \n",
    "        #plt.plot(bvals,integrand)\n",
    "        results.append(1.0/ene*scipy.integrate.simps(integrand,bvals))\n",
    "        \n",
    "        #NOTE: IF you use quad, put 2pib to integrand!!!!!!\n",
    "        #res = scipy.integrate.quad(nPS_cross_section_Ap_full_b, 0, 70, args=(ene, ft_interpolator, totxs))[0]\n",
    "        #results.append(1.0/ene*res)\n",
    "    \n",
    "    #print \"Error \" + str(res[1]) + \" compare to result \" + str(res[0])\n",
    "    return 2.0*pi/Rcone*1.0/(2*pi)*1.0/2.0*np.array(results)/mbgevsqr\n",
    "    "
   ]
  },
  {
   "cell_type": "code",
   "execution_count": 97,
   "metadata": {},
   "outputs": [
    {
     "name": "stdout",
     "output_type": "stream",
     "text": [
      "# Computing E=100\n"
     ]
    },
    {
     "data": {
      "text/plain": [
       "array([ 2.48633922])"
      ]
     },
     "execution_count": 97,
     "metadata": {},
     "output_type": "execute_result"
    }
   ],
   "source": [
    "nPS_cross_section_Ap_full([100], test_interpolator, test_xvals, 2*pi)"
   ]
  },
  {
   "cell_type": "code",
   "execution_count": 54,
   "metadata": {},
   "outputs": [],
   "source": [
    "# Create interpolator for testing\n",
    "test_xvals=np.linspace(0,3000,200)\n",
    "test_yvals=A*np.exp(-0.01*test_xvals)/mbgevsqr\n",
    "test_interpolator = scipy.interpolate.interp1d(test_xvals, test_yvals, bounds_error=False, fill_value=0)\n",
    "\n",
    "totxsf = lambda e: 1.0/A*test_interpolator(e)*mbgevsqr\n",
    "totxs= scipy.integrate.quad(totxsf, min_energy+energy_bin, max_energy-energy_bin)[0]\n"
   ]
  },
  {
   "cell_type": "code",
   "execution_count": 98,
   "metadata": {},
   "outputs": [],
   "source": [
    "fullE = np.linspace(50,4000,10)"
   ]
  },
  {
   "cell_type": "code",
   "execution_count": 107,
   "metadata": {},
   "outputs": [
    {
     "name": "stdout",
     "output_type": "stream",
     "text": [
      "# Computing E=50.0\n",
      "# Computing E=488.888888889\n",
      "# Computing E=927.777777778\n",
      "# Computing E=1366.66666667\n",
      "# Computing E=1805.55555556\n",
      "# Computing E=2244.44444444\n",
      "# Computing E=2683.33333333\n",
      "# Computing E=3122.22222222\n",
      "# Computing E=3561.11111111\n",
      "# Computing E=4000.0\n"
     ]
    }
   ],
   "source": [
    "\n",
    "fullspectra = nPS_cross_section_Ap_full(fullE, Ap_interpolator, energy_xvals, Rcone=2*pi) \n"
   ]
  },
  {
   "cell_type": "code",
   "execution_count": 113,
   "metadata": {},
   "outputs": [
    {
     "name": "stdout",
     "output_type": "stream",
     "text": [
      "# Computing E=50.0\n",
      "# Computing E=488.888888889\n",
      "# Computing E=927.777777778\n",
      "# Computing E=1366.66666667\n",
      "# Computing E=1805.55555556\n",
      "# Computing E=2244.44444444\n",
      "# Computing E=2683.33333333\n",
      "# Computing E=3122.22222222\n",
      "# Computing E=3561.11111111\n",
      "# Computing E=4000.0\n",
      "# Computing E=50.0\n",
      "# Computing E=488.888888889\n",
      "# Computing E=927.777777778\n",
      "# Computing E=1366.66666667\n",
      "# Computing E=1805.55555556\n",
      "# Computing E=2244.44444444\n",
      "# Computing E=2683.33333333\n",
      "# Computing E=3122.22222222\n",
      "# Computing E=3561.11111111\n",
      "# Computing E=4000.0\n",
      "# Computing E=50.0\n",
      "# Computing E=488.888888889\n",
      "# Computing E=927.777777778\n",
      "# Computing E=1366.66666667\n",
      "# Computing E=1805.55555556\n",
      "# Computing E=2244.44444444\n",
      "# Computing E=2683.33333333\n",
      "# Computing E=3122.22222222\n",
      "# Computing E=3561.11111111\n",
      "# Computing E=4000.0\n"
     ]
    },
    {
     "ename": "KeyboardInterrupt",
     "evalue": "",
     "output_type": "error",
     "traceback": [
      "\u001b[0;31m---------------------------------------------------------------------------\u001b[0m",
      "\u001b[0;31mKeyboardInterrupt\u001b[0m                         Traceback (most recent call last)",
      "\u001b[0;32m<ipython-input-113-30d2ee2c2ee9>\u001b[0m in \u001b[0;36m<module>\u001b[0;34m()\u001b[0m\n\u001b[0;32m----> 1\u001b[0;31m \u001b[0mfullspectra05\u001b[0m \u001b[0;34m=\u001b[0m \u001b[0;34m[\u001b[0m\u001b[0mnPS_cross_section_Ap_full\u001b[0m\u001b[0;34m(\u001b[0m\u001b[0mfullE\u001b[0m\u001b[0;34m,\u001b[0m \u001b[0mAp_interpolator\u001b[0m\u001b[0;34m,\u001b[0m \u001b[0menergy_xvals\u001b[0m\u001b[0;34m,\u001b[0m \u001b[0mRcone\u001b[0m\u001b[0;34m=\u001b[0m\u001b[0;36m0.5\u001b[0m\u001b[0;34m)\u001b[0m \u001b[0;32mfor\u001b[0m \u001b[0me\u001b[0m \u001b[0;32min\u001b[0m \u001b[0mfullE\u001b[0m\u001b[0;34m]\u001b[0m\u001b[0;34m\u001b[0m\u001b[0m\n\u001b[0m",
      "\u001b[0;32m<ipython-input-106-3ce8502137c2>\u001b[0m in \u001b[0;36mnPS_cross_section_Ap_full\u001b[0;34m(enevals, interp, energies, Rcone)\u001b[0m\n\u001b[1;32m     14\u001b[0m     \u001b[0;31m# Note: real part is symmetric, imaginary part antisymmetric\u001b[0m\u001b[0;34m\u001b[0m\u001b[0;34m\u001b[0m\u001b[0m\n\u001b[1;32m     15\u001b[0m     \u001b[0mft_tau_ene\u001b[0m \u001b[0;34m=\u001b[0m \u001b[0mnp\u001b[0m\u001b[0;34m.\u001b[0m\u001b[0mlinspace\u001b[0m\u001b[0;34m(\u001b[0m\u001b[0;34m-\u001b[0m\u001b[0;36m0.4\u001b[0m\u001b[0;34m,\u001b[0m\u001b[0;36m0\u001b[0m\u001b[0;34m,\u001b[0m\u001b[0;36m1000\u001b[0m\u001b[0;34m)\u001b[0m\u001b[0;34m\u001b[0m\u001b[0m\n\u001b[0;32m---> 16\u001b[0;31m     \u001b[0mft_vals\u001b[0m \u001b[0;34m=\u001b[0m \u001b[0mnp\u001b[0m\u001b[0;34m.\u001b[0m\u001b[0marray\u001b[0m\u001b[0;34m(\u001b[0m\u001b[0;34m[\u001b[0m\u001b[0mft_re\u001b[0m\u001b[0;34m(\u001b[0m\u001b[0mt\u001b[0m\u001b[0;34m)\u001b[0m \u001b[0;32mfor\u001b[0m \u001b[0mt\u001b[0m \u001b[0;32min\u001b[0m \u001b[0mft_tau_ene\u001b[0m\u001b[0;34m]\u001b[0m\u001b[0;34m)\u001b[0m \u001b[0;34m+\u001b[0m \u001b[0;36m1j\u001b[0m\u001b[0;34m*\u001b[0m\u001b[0mnp\u001b[0m\u001b[0;34m.\u001b[0m\u001b[0marray\u001b[0m\u001b[0;34m(\u001b[0m\u001b[0;34m[\u001b[0m\u001b[0mft_im\u001b[0m\u001b[0;34m(\u001b[0m\u001b[0mt\u001b[0m\u001b[0;34m)\u001b[0m \u001b[0;32mfor\u001b[0m \u001b[0mt\u001b[0m \u001b[0;32min\u001b[0m \u001b[0mft_tau_ene\u001b[0m\u001b[0;34m]\u001b[0m\u001b[0;34m)\u001b[0m\u001b[0;34m\u001b[0m\u001b[0m\n\u001b[0m\u001b[1;32m     17\u001b[0m     \u001b[0;32mfor\u001b[0m \u001b[0mt\u001b[0m\u001b[0;34m,\u001b[0m\u001b[0mre\u001b[0m\u001b[0;34m,\u001b[0m\u001b[0mim\u001b[0m \u001b[0;32min\u001b[0m \u001b[0mzip\u001b[0m\u001b[0;34m(\u001b[0m\u001b[0mnp\u001b[0m\u001b[0;34m.\u001b[0m\u001b[0mflipud\u001b[0m\u001b[0;34m(\u001b[0m\u001b[0mft_tau_ene\u001b[0m\u001b[0;34m[\u001b[0m\u001b[0;34m:\u001b[0m\u001b[0;34m-\u001b[0m\u001b[0;36m1\u001b[0m\u001b[0;34m]\u001b[0m\u001b[0;34m)\u001b[0m\u001b[0;34m,\u001b[0m\u001b[0mnp\u001b[0m\u001b[0;34m.\u001b[0m\u001b[0mflipud\u001b[0m\u001b[0;34m(\u001b[0m\u001b[0mnp\u001b[0m\u001b[0;34m.\u001b[0m\u001b[0mreal\u001b[0m\u001b[0;34m(\u001b[0m\u001b[0mft_vals\u001b[0m\u001b[0;34m[\u001b[0m\u001b[0;34m:\u001b[0m\u001b[0;34m-\u001b[0m\u001b[0;36m1\u001b[0m\u001b[0;34m]\u001b[0m\u001b[0;34m)\u001b[0m\u001b[0;34m)\u001b[0m\u001b[0;34m,\u001b[0m\u001b[0mnp\u001b[0m\u001b[0;34m.\u001b[0m\u001b[0mflipud\u001b[0m\u001b[0;34m(\u001b[0m\u001b[0mnp\u001b[0m\u001b[0;34m.\u001b[0m\u001b[0mimag\u001b[0m\u001b[0;34m(\u001b[0m\u001b[0mft_vals\u001b[0m\u001b[0;34m[\u001b[0m\u001b[0;34m:\u001b[0m\u001b[0;34m-\u001b[0m\u001b[0;36m1\u001b[0m\u001b[0;34m]\u001b[0m\u001b[0;34m)\u001b[0m\u001b[0;34m)\u001b[0m \u001b[0;34m)\u001b[0m \u001b[0;34m:\u001b[0m\u001b[0;34m\u001b[0m\u001b[0m\n\u001b[1;32m     18\u001b[0m         \u001b[0mft_vals\u001b[0m\u001b[0;34m=\u001b[0m\u001b[0mnp\u001b[0m\u001b[0;34m.\u001b[0m\u001b[0mappend\u001b[0m\u001b[0;34m(\u001b[0m\u001b[0mft_vals\u001b[0m\u001b[0;34m,\u001b[0m\u001b[0mre\u001b[0m \u001b[0;34m-\u001b[0m \u001b[0;36m1j\u001b[0m\u001b[0;34m*\u001b[0m\u001b[0mim\u001b[0m\u001b[0;34m)\u001b[0m\u001b[0;34m\u001b[0m\u001b[0m\n",
      "\u001b[0;32m<ipython-input-106-3ce8502137c2>\u001b[0m in \u001b[0;36m<lambda>\u001b[0;34m(tau_ene)\u001b[0m\n\u001b[1;32m      9\u001b[0m \u001b[0;34m\u001b[0m\u001b[0m\n\u001b[1;32m     10\u001b[0m     \u001b[0mftintegrand\u001b[0m \u001b[0;34m=\u001b[0m \u001b[0;32mlambda\u001b[0m \u001b[0mei\u001b[0m\u001b[0;34m:\u001b[0m \u001b[0;36m1.0\u001b[0m\u001b[0;34m/\u001b[0m\u001b[0mA\u001b[0m\u001b[0;34m*\u001b[0m\u001b[0minterp\u001b[0m\u001b[0;34m(\u001b[0m\u001b[0mei\u001b[0m\u001b[0;34m)\u001b[0m\u001b[0;34m*\u001b[0m\u001b[0mmbgevsqr\u001b[0m\u001b[0;34m*\u001b[0m\u001b[0mRcone\u001b[0m\u001b[0;34m/\u001b[0m\u001b[0;34m(\u001b[0m\u001b[0;36m2\u001b[0m\u001b[0;34m*\u001b[0m\u001b[0mpi\u001b[0m\u001b[0;34m)\u001b[0m\u001b[0;34m\u001b[0m\u001b[0m\n\u001b[0;32m---> 11\u001b[0;31m     \u001b[0mft_re\u001b[0m \u001b[0;34m=\u001b[0m \u001b[0;32mlambda\u001b[0m \u001b[0mtau_ene\u001b[0m\u001b[0;34m:\u001b[0m \u001b[0mscipy\u001b[0m\u001b[0;34m.\u001b[0m\u001b[0mintegrate\u001b[0m\u001b[0;34m.\u001b[0m\u001b[0mquad\u001b[0m\u001b[0;34m(\u001b[0m\u001b[0mftintegrand\u001b[0m\u001b[0;34m,\u001b[0m \u001b[0menergies\u001b[0m\u001b[0;34m[\u001b[0m\u001b[0;36m0\u001b[0m\u001b[0;34m]\u001b[0m\u001b[0;34m,\u001b[0m \u001b[0menergies\u001b[0m\u001b[0;34m[\u001b[0m\u001b[0;34m-\u001b[0m\u001b[0;36m1\u001b[0m\u001b[0;34m]\u001b[0m\u001b[0;34m,\u001b[0m \u001b[0mweight\u001b[0m\u001b[0;34m=\u001b[0m\u001b[0;34m'cos'\u001b[0m\u001b[0;34m,\u001b[0m \u001b[0mwvar\u001b[0m\u001b[0;34m=\u001b[0m\u001b[0mtau_ene\u001b[0m\u001b[0;34m)\u001b[0m\u001b[0;34m[\u001b[0m\u001b[0;36m0\u001b[0m\u001b[0;34m]\u001b[0m\u001b[0;34m\u001b[0m\u001b[0m\n\u001b[0m\u001b[1;32m     12\u001b[0m     \u001b[0mft_im\u001b[0m \u001b[0;34m=\u001b[0m \u001b[0;32mlambda\u001b[0m \u001b[0mtau_ene\u001b[0m\u001b[0;34m:\u001b[0m \u001b[0;34m-\u001b[0m\u001b[0mscipy\u001b[0m\u001b[0;34m.\u001b[0m\u001b[0mintegrate\u001b[0m\u001b[0;34m.\u001b[0m\u001b[0mquad\u001b[0m\u001b[0;34m(\u001b[0m\u001b[0mftintegrand\u001b[0m\u001b[0;34m,\u001b[0m \u001b[0menergies\u001b[0m\u001b[0;34m[\u001b[0m\u001b[0;36m0\u001b[0m\u001b[0;34m]\u001b[0m\u001b[0;34m,\u001b[0m \u001b[0menergies\u001b[0m\u001b[0;34m[\u001b[0m\u001b[0;34m-\u001b[0m\u001b[0;36m1\u001b[0m\u001b[0;34m]\u001b[0m\u001b[0;34m,\u001b[0m \u001b[0mweight\u001b[0m\u001b[0;34m=\u001b[0m\u001b[0;34m'sin'\u001b[0m\u001b[0;34m,\u001b[0m \u001b[0mwvar\u001b[0m\u001b[0;34m=\u001b[0m\u001b[0mtau_ene\u001b[0m\u001b[0;34m)\u001b[0m\u001b[0;34m[\u001b[0m\u001b[0;36m0\u001b[0m\u001b[0;34m]\u001b[0m\u001b[0;34m\u001b[0m\u001b[0m\n\u001b[1;32m     13\u001b[0m \u001b[0;34m\u001b[0m\u001b[0m\n",
      "\u001b[0;32m/usr/local/lib/python2.7/site-packages/scipy/integrate/quadpack.pyc\u001b[0m in \u001b[0;36mquad\u001b[0;34m(func, a, b, args, full_output, epsabs, epsrel, limit, points, weight, wvar, wopts, maxp1, limlst)\u001b[0m\n\u001b[1;32m    324\u001b[0m     \u001b[0;32melse\u001b[0m\u001b[0;34m:\u001b[0m\u001b[0;34m\u001b[0m\u001b[0m\n\u001b[1;32m    325\u001b[0m         retval = _quad_weight(func, a, b, args, full_output, epsabs, epsrel,\n\u001b[0;32m--> 326\u001b[0;31m                               limlst, limit, maxp1, weight, wvar, wopts)\n\u001b[0m\u001b[1;32m    327\u001b[0m \u001b[0;34m\u001b[0m\u001b[0m\n\u001b[1;32m    328\u001b[0m     \u001b[0mier\u001b[0m \u001b[0;34m=\u001b[0m \u001b[0mretval\u001b[0m\u001b[0;34m[\u001b[0m\u001b[0;34m-\u001b[0m\u001b[0;36m1\u001b[0m\u001b[0;34m]\u001b[0m\u001b[0;34m\u001b[0m\u001b[0m\n",
      "\u001b[0;32m/usr/local/lib/python2.7/site-packages/scipy/integrate/quadpack.pyc\u001b[0m in \u001b[0;36m_quad_weight\u001b[0;34m(func, a, b, args, full_output, epsabs, epsrel, limlst, limit, maxp1, weight, wvar, wopts)\u001b[0m\n\u001b[1;32m    411\u001b[0m             \u001b[0;32mif\u001b[0m \u001b[0mwopts\u001b[0m \u001b[0;32mis\u001b[0m \u001b[0mNone\u001b[0m\u001b[0;34m:\u001b[0m         \u001b[0;31m# no precomputed chebyshev moments\u001b[0m\u001b[0;34m\u001b[0m\u001b[0m\n\u001b[1;32m    412\u001b[0m                 return _quadpack._qawoe(func, a, b, wvar, integr, args, full_output,\n\u001b[0;32m--> 413\u001b[0;31m                                         epsabs, epsrel, limit, maxp1,1)\n\u001b[0m\u001b[1;32m    414\u001b[0m             \u001b[0;32melse\u001b[0m\u001b[0;34m:\u001b[0m                     \u001b[0;31m# precomputed chebyshev moments\u001b[0m\u001b[0;34m\u001b[0m\u001b[0m\n\u001b[1;32m    415\u001b[0m                 \u001b[0mmomcom\u001b[0m \u001b[0;34m=\u001b[0m \u001b[0mwopts\u001b[0m\u001b[0;34m[\u001b[0m\u001b[0;36m0\u001b[0m\u001b[0;34m]\u001b[0m\u001b[0;34m\u001b[0m\u001b[0m\n",
      "\u001b[0;32m<ipython-input-106-3ce8502137c2>\u001b[0m in \u001b[0;36m<lambda>\u001b[0;34m(ei)\u001b[0m\n\u001b[1;32m      8\u001b[0m     \u001b[0;31m# Note that interpolator is in mb/GeV, convert to GeVs\u001b[0m\u001b[0;34m\u001b[0m\u001b[0;34m\u001b[0m\u001b[0m\n\u001b[1;32m      9\u001b[0m \u001b[0;34m\u001b[0m\u001b[0m\n\u001b[0;32m---> 10\u001b[0;31m     \u001b[0mftintegrand\u001b[0m \u001b[0;34m=\u001b[0m \u001b[0;32mlambda\u001b[0m \u001b[0mei\u001b[0m\u001b[0;34m:\u001b[0m \u001b[0;36m1.0\u001b[0m\u001b[0;34m/\u001b[0m\u001b[0mA\u001b[0m\u001b[0;34m*\u001b[0m\u001b[0minterp\u001b[0m\u001b[0;34m(\u001b[0m\u001b[0mei\u001b[0m\u001b[0;34m)\u001b[0m\u001b[0;34m*\u001b[0m\u001b[0mmbgevsqr\u001b[0m\u001b[0;34m*\u001b[0m\u001b[0mRcone\u001b[0m\u001b[0;34m/\u001b[0m\u001b[0;34m(\u001b[0m\u001b[0;36m2\u001b[0m\u001b[0;34m*\u001b[0m\u001b[0mpi\u001b[0m\u001b[0;34m)\u001b[0m\u001b[0;34m\u001b[0m\u001b[0m\n\u001b[0m\u001b[1;32m     11\u001b[0m     \u001b[0mft_re\u001b[0m \u001b[0;34m=\u001b[0m \u001b[0;32mlambda\u001b[0m \u001b[0mtau_ene\u001b[0m\u001b[0;34m:\u001b[0m \u001b[0mscipy\u001b[0m\u001b[0;34m.\u001b[0m\u001b[0mintegrate\u001b[0m\u001b[0;34m.\u001b[0m\u001b[0mquad\u001b[0m\u001b[0;34m(\u001b[0m\u001b[0mftintegrand\u001b[0m\u001b[0;34m,\u001b[0m \u001b[0menergies\u001b[0m\u001b[0;34m[\u001b[0m\u001b[0;36m0\u001b[0m\u001b[0;34m]\u001b[0m\u001b[0;34m,\u001b[0m \u001b[0menergies\u001b[0m\u001b[0;34m[\u001b[0m\u001b[0;34m-\u001b[0m\u001b[0;36m1\u001b[0m\u001b[0;34m]\u001b[0m\u001b[0;34m,\u001b[0m \u001b[0mweight\u001b[0m\u001b[0;34m=\u001b[0m\u001b[0;34m'cos'\u001b[0m\u001b[0;34m,\u001b[0m \u001b[0mwvar\u001b[0m\u001b[0;34m=\u001b[0m\u001b[0mtau_ene\u001b[0m\u001b[0;34m)\u001b[0m\u001b[0;34m[\u001b[0m\u001b[0;36m0\u001b[0m\u001b[0;34m]\u001b[0m\u001b[0;34m\u001b[0m\u001b[0m\n\u001b[1;32m     12\u001b[0m     \u001b[0mft_im\u001b[0m \u001b[0;34m=\u001b[0m \u001b[0;32mlambda\u001b[0m \u001b[0mtau_ene\u001b[0m\u001b[0;34m:\u001b[0m \u001b[0;34m-\u001b[0m\u001b[0mscipy\u001b[0m\u001b[0;34m.\u001b[0m\u001b[0mintegrate\u001b[0m\u001b[0;34m.\u001b[0m\u001b[0mquad\u001b[0m\u001b[0;34m(\u001b[0m\u001b[0mftintegrand\u001b[0m\u001b[0;34m,\u001b[0m \u001b[0menergies\u001b[0m\u001b[0;34m[\u001b[0m\u001b[0;36m0\u001b[0m\u001b[0;34m]\u001b[0m\u001b[0;34m,\u001b[0m \u001b[0menergies\u001b[0m\u001b[0;34m[\u001b[0m\u001b[0;34m-\u001b[0m\u001b[0;36m1\u001b[0m\u001b[0;34m]\u001b[0m\u001b[0;34m,\u001b[0m \u001b[0mweight\u001b[0m\u001b[0;34m=\u001b[0m\u001b[0;34m'sin'\u001b[0m\u001b[0;34m,\u001b[0m \u001b[0mwvar\u001b[0m\u001b[0;34m=\u001b[0m\u001b[0mtau_ene\u001b[0m\u001b[0;34m)\u001b[0m\u001b[0;34m[\u001b[0m\u001b[0;36m0\u001b[0m\u001b[0;34m]\u001b[0m\u001b[0;34m\u001b[0m\u001b[0m\n",
      "\u001b[0;32m/usr/local/lib/python2.7/site-packages/scipy/interpolate/polyint.pyc\u001b[0m in \u001b[0;36m__call__\u001b[0;34m(self, x)\u001b[0m\n\u001b[1;32m     77\u001b[0m         \"\"\"\n\u001b[1;32m     78\u001b[0m         \u001b[0mx\u001b[0m\u001b[0;34m,\u001b[0m \u001b[0mx_shape\u001b[0m \u001b[0;34m=\u001b[0m \u001b[0mself\u001b[0m\u001b[0;34m.\u001b[0m\u001b[0m_prepare_x\u001b[0m\u001b[0;34m(\u001b[0m\u001b[0mx\u001b[0m\u001b[0;34m)\u001b[0m\u001b[0;34m\u001b[0m\u001b[0m\n\u001b[0;32m---> 79\u001b[0;31m         \u001b[0my\u001b[0m \u001b[0;34m=\u001b[0m \u001b[0mself\u001b[0m\u001b[0;34m.\u001b[0m\u001b[0m_evaluate\u001b[0m\u001b[0;34m(\u001b[0m\u001b[0mx\u001b[0m\u001b[0;34m)\u001b[0m\u001b[0;34m\u001b[0m\u001b[0m\n\u001b[0m\u001b[1;32m     80\u001b[0m         \u001b[0;32mreturn\u001b[0m \u001b[0mself\u001b[0m\u001b[0;34m.\u001b[0m\u001b[0m_finish_y\u001b[0m\u001b[0;34m(\u001b[0m\u001b[0my\u001b[0m\u001b[0;34m,\u001b[0m \u001b[0mx_shape\u001b[0m\u001b[0;34m)\u001b[0m\u001b[0;34m\u001b[0m\u001b[0m\n\u001b[1;32m     81\u001b[0m \u001b[0;34m\u001b[0m\u001b[0m\n",
      "\u001b[0;32m/usr/local/lib/python2.7/site-packages/scipy/interpolate/interpolate.pyc\u001b[0m in \u001b[0;36m_evaluate\u001b[0;34m(self, x_new)\u001b[0m\n\u001b[1;32m    630\u001b[0m         \u001b[0;31m#    The behavior is set by the bounds_error variable.\u001b[0m\u001b[0;34m\u001b[0m\u001b[0;34m\u001b[0m\u001b[0m\n\u001b[1;32m    631\u001b[0m         \u001b[0mx_new\u001b[0m \u001b[0;34m=\u001b[0m \u001b[0masarray\u001b[0m\u001b[0;34m(\u001b[0m\u001b[0mx_new\u001b[0m\u001b[0;34m)\u001b[0m\u001b[0;34m\u001b[0m\u001b[0m\n\u001b[0;32m--> 632\u001b[0;31m         \u001b[0my_new\u001b[0m \u001b[0;34m=\u001b[0m \u001b[0mself\u001b[0m\u001b[0;34m.\u001b[0m\u001b[0m_call\u001b[0m\u001b[0;34m(\u001b[0m\u001b[0mself\u001b[0m\u001b[0;34m,\u001b[0m \u001b[0mx_new\u001b[0m\u001b[0;34m)\u001b[0m\u001b[0;34m\u001b[0m\u001b[0m\n\u001b[0m\u001b[1;32m    633\u001b[0m         \u001b[0;32mif\u001b[0m \u001b[0;32mnot\u001b[0m \u001b[0mself\u001b[0m\u001b[0;34m.\u001b[0m\u001b[0m_extrapolate\u001b[0m\u001b[0;34m:\u001b[0m\u001b[0;34m\u001b[0m\u001b[0m\n\u001b[1;32m    634\u001b[0m             \u001b[0mbelow_bounds\u001b[0m\u001b[0;34m,\u001b[0m \u001b[0mabove_bounds\u001b[0m \u001b[0;34m=\u001b[0m \u001b[0mself\u001b[0m\u001b[0;34m.\u001b[0m\u001b[0m_check_bounds\u001b[0m\u001b[0;34m(\u001b[0m\u001b[0mx_new\u001b[0m\u001b[0;34m)\u001b[0m\u001b[0;34m\u001b[0m\u001b[0m\n",
      "\u001b[0;32m/usr/local/lib/python2.7/site-packages/scipy/interpolate/interpolate.pyc\u001b[0m in \u001b[0;36m_call_spline\u001b[0;34m(self, x_new)\u001b[0m\n\u001b[1;32m    618\u001b[0m \u001b[0;34m\u001b[0m\u001b[0m\n\u001b[1;32m    619\u001b[0m     \u001b[0;32mdef\u001b[0m \u001b[0m_call_spline\u001b[0m\u001b[0;34m(\u001b[0m\u001b[0mself\u001b[0m\u001b[0;34m,\u001b[0m \u001b[0mx_new\u001b[0m\u001b[0;34m)\u001b[0m\u001b[0;34m:\u001b[0m\u001b[0;34m\u001b[0m\u001b[0m\n\u001b[0;32m--> 620\u001b[0;31m         \u001b[0;32mreturn\u001b[0m \u001b[0mself\u001b[0m\u001b[0;34m.\u001b[0m\u001b[0m_spline\u001b[0m\u001b[0;34m(\u001b[0m\u001b[0mx_new\u001b[0m\u001b[0;34m)\u001b[0m\u001b[0;34m\u001b[0m\u001b[0m\n\u001b[0m\u001b[1;32m    621\u001b[0m \u001b[0;34m\u001b[0m\u001b[0m\n\u001b[1;32m    622\u001b[0m     \u001b[0;32mdef\u001b[0m \u001b[0m_call_nan_spline\u001b[0m\u001b[0;34m(\u001b[0m\u001b[0mself\u001b[0m\u001b[0;34m,\u001b[0m \u001b[0mx_new\u001b[0m\u001b[0;34m)\u001b[0m\u001b[0;34m:\u001b[0m\u001b[0;34m\u001b[0m\u001b[0m\n",
      "\u001b[0;32m/usr/local/lib/python2.7/site-packages/scipy/interpolate/_bsplines.pyc\u001b[0m in \u001b[0;36m__call__\u001b[0;34m(self, x, nu, extrapolate)\u001b[0m\n\u001b[1;32m    345\u001b[0m             \u001b[0mextrapolate\u001b[0m \u001b[0;34m=\u001b[0m \u001b[0mFalse\u001b[0m\u001b[0;34m\u001b[0m\u001b[0m\n\u001b[1;32m    346\u001b[0m \u001b[0;34m\u001b[0m\u001b[0m\n\u001b[0;32m--> 347\u001b[0;31m         \u001b[0mout\u001b[0m \u001b[0;34m=\u001b[0m \u001b[0mnp\u001b[0m\u001b[0;34m.\u001b[0m\u001b[0mempty\u001b[0m\u001b[0;34m(\u001b[0m\u001b[0;34m(\u001b[0m\u001b[0mlen\u001b[0m\u001b[0;34m(\u001b[0m\u001b[0mx\u001b[0m\u001b[0;34m)\u001b[0m\u001b[0;34m,\u001b[0m \u001b[0mprod\u001b[0m\u001b[0;34m(\u001b[0m\u001b[0mself\u001b[0m\u001b[0;34m.\u001b[0m\u001b[0mc\u001b[0m\u001b[0;34m.\u001b[0m\u001b[0mshape\u001b[0m\u001b[0;34m[\u001b[0m\u001b[0;36m1\u001b[0m\u001b[0;34m:\u001b[0m\u001b[0;34m]\u001b[0m\u001b[0;34m)\u001b[0m\u001b[0;34m)\u001b[0m\u001b[0;34m,\u001b[0m \u001b[0mdtype\u001b[0m\u001b[0;34m=\u001b[0m\u001b[0mself\u001b[0m\u001b[0;34m.\u001b[0m\u001b[0mc\u001b[0m\u001b[0;34m.\u001b[0m\u001b[0mdtype\u001b[0m\u001b[0;34m)\u001b[0m\u001b[0;34m\u001b[0m\u001b[0m\n\u001b[0m\u001b[1;32m    348\u001b[0m         \u001b[0mself\u001b[0m\u001b[0;34m.\u001b[0m\u001b[0m_ensure_c_contiguous\u001b[0m\u001b[0;34m(\u001b[0m\u001b[0;34m)\u001b[0m\u001b[0;34m\u001b[0m\u001b[0m\n\u001b[1;32m    349\u001b[0m         \u001b[0mself\u001b[0m\u001b[0;34m.\u001b[0m\u001b[0m_evaluate\u001b[0m\u001b[0;34m(\u001b[0m\u001b[0mx\u001b[0m\u001b[0;34m,\u001b[0m \u001b[0mnu\u001b[0m\u001b[0;34m,\u001b[0m \u001b[0mextrapolate\u001b[0m\u001b[0;34m,\u001b[0m \u001b[0mout\u001b[0m\u001b[0;34m)\u001b[0m\u001b[0;34m\u001b[0m\u001b[0m\n",
      "\u001b[0;31mKeyboardInterrupt\u001b[0m: "
     ]
    }
   ],
   "source": [
    "fullspectra05 = [nPS_cross_section_Ap_full(fullE, Ap_interpolator, energy_xvals, Rcone=0.5) for e in fullE]"
   ]
  },
  {
   "cell_type": "code",
   "execution_count": 99,
   "metadata": {},
   "outputs": [
    {
     "name": "stdout",
     "output_type": "stream",
     "text": [
      "# Computing E=50.0\n",
      "# Computing E=488.888888889\n",
      "# Computing E=927.777777778\n",
      "# Computing E=1366.66666667\n",
      "# Computing E=1805.55555556\n",
      "# Computing E=2244.44444444\n",
      "# Computing E=2683.33333333\n",
      "# Computing E=3122.22222222\n",
      "# Computing E=3561.11111111\n",
      "# Computing E=4000.0\n"
     ]
    }
   ],
   "source": [
    "fullspectra_test = nPS_cross_section_Ap_full(fullE, test_interpolator, test_xvals, Rcone=2*pi) "
   ]
  },
  {
   "cell_type": "code",
   "execution_count": 94,
   "metadata": {},
   "outputs": [
    {
     "data": {
      "text/plain": [
       "array([   50.,   840.,  1630.,  2420.,  3210.,  4000.])"
      ]
     },
     "execution_count": 94,
     "metadata": {},
     "output_type": "execute_result"
    }
   ],
   "source": [
    "fullE"
   ]
  },
  {
   "cell_type": "code",
   "execution_count": 93,
   "metadata": {},
   "outputs": [
    {
     "data": {
      "text/plain": [
       "array([  2.77474319e+00,   2.00353491e+00,   2.45148326e-01,\n",
       "         9.92993453e-03,   2.14865660e-04,   5.60825561e-06])"
      ]
     },
     "execution_count": 93,
     "metadata": {},
     "output_type": "execute_result"
    }
   ],
   "source": [
    "fullspectra_test*208"
   ]
  },
  {
   "cell_type": "code",
   "execution_count": 59,
   "metadata": {},
   "outputs": [],
   "source": [
    "teste = np.linspace(10,3700,30)\n",
    "ape=np.linspace(min_energy+10,1400,100)\n"
   ]
  },
  {
   "cell_type": "code",
   "execution_count": 104,
   "metadata": {},
   "outputs": [
    {
     "data": {
      "image/png": "[encoded data removed]",
      "text/plain": [
       "<matplotlib.figure.Figure at 0x10985af50>"
      ]
     },
     "metadata": {},
     "output_type": "display_data"
    }
   ],
   "source": [
    "\n",
    "plt.plot(teste,nPS_cross_section_Ap(test_interpolator, teste, Rcone=2*pi), label=r\"Gaussian approx $R=2\\pi$\", linestyle=Linestyle(0))\n",
    "#plt.plot(teste,nPS_cross_section_Ap(Ap_interpolator, teste, Rcone=0.5), linestyle=Linestyle(1), label=\"Resum $R=0.5$\")\n",
    "#plt.plot(teste,nPS_cross_section_Ap(Ap_interpolator, teste, Rcone=0.1), linestyle=Linestyle(3), label=r\"$R=0.1$\")\n",
    "plt.plot(fullE, np.array(fullspectra_test), label=\"Full\", linestyle=Linestyle(1), linewidth=lw)\n",
    "#plt.plot(fullE, np.array(fullspectra05), label=\"Full $R=0.5$\", linestyle=Linestyle(3), linewidth=lw)\n",
    "plt.plot(ape, np.array(test_interpolator(ape))/mbgevsqr, linestyle=Linestyle(0), linewidth=2,label=r\"$A \\times pp$\")\n",
    "\n",
    "yscale(\"log\")\n",
    "plt.ylim(ymin=1e-5, ymax=1e2)\n",
    "\n",
    "plt.xlabel(\"E [GeV]\",fontsize=legfont)\n",
    "plt.ylabel(\"$\\mathrm{d}\\sigma/\\mathrm{d}E$ [mb/GeV]\", fontsize=legfont)\n",
    "\n",
    "leg=legend(prop=dict(size=legfont),labelspacing=0.001,ncol=1,numpoints=1, loc=1)\n",
    "leg.draw_frame(False)\n",
    "\n",
    "savefig(output_dir + \"/kje_vs_full_vs_pp.pdf\")"
   ]
  },
  {
   "cell_type": "code",
   "execution_count": 130,
   "metadata": {},
   "outputs": [
    {
     "data": {
      "image/png": "[encoded data removed]",
      "text/plain": [
       "<matplotlib.figure.Figure at 0x109316550>"
      ]
     },
     "metadata": {},
     "output_type": "display_data"
    }
   ],
   "source": [
    "\n",
    "plt.plot(teste,nPS_cross_section_Ap(test_interpolator, teste, Rcone=2*pi), label=r\"Gaussian approx $R=2\\pi$\")\n",
    "plt.plot(teste,nPS_cross_section_Ap(test_interpolator, teste, Rcone=0.5), linestyle=Linestyle(1), label=r\"Gaussian approx $R=0.5$\")\n",
    "plt.plot(teste,nPS_cross_section_Ap_suppression(test_interpolator, teste, Rcone=0.5), linestyle=Linestyle(2), label=r\"Suppression $R=0.5\")\n",
    "#plt.plot(teste,nPS_cross_section_Ap(Ap_interpolator, teste, Rcone=0.5), linestyle=Linestyle(1), label=\"Resum $R=0.5$\")\n",
    "#plt.plot(teste,nPS_cross_section_Ap(Ap_interpolator, teste, Rcone=0.1), linestyle=Linestyle(3), label=r\"$R=0.1$\")\n",
    "plt.plot(fullE, np.array(fullspectra_test), label=\"Full\", linestyle=Linestyle(1), linewidth=lw)\n",
    "#plt.plot(fullE, np.array(fullspectra05), label=\"Full $R=0.5$\", linestyle=Linestyle(3), linewidth=lw)\n",
    "#plt.plot(ape, np.array(test_interpolator(ape))/mbgevsqr, linestyle=Linestyle(3), linewidth=2,label=r\"$A \\times pp$\")\n",
    "\n",
    "yscale(\"log\")\n",
    "plt.ylim(ymin=1e-5, ymax=1e2)\n",
    "\n",
    "plt.xlabel(\"E [GeV]\",fontsize=legfont)\n",
    "plt.ylabel(\"$\\mathrm{d}\\sigma/\\mathrm{d}E$ [mb/GeV]\", fontsize=legfont)\n",
    "\n",
    "leg=legend(prop=dict(size=legfont),labelspacing=0.001,ncol=1,numpoints=1, loc=1)\n",
    "leg.draw_frame(False)\n",
    "\n"
   ]
  },
  {
   "cell_type": "code",
   "execution_count": 436,
   "metadata": {
    "collapsed": true
   },
   "outputs": [
    {
     "ename": "NameError",
     "evalue": "name 'fullspectra05' is not defined",
     "output_type": "error",
     "traceback": [
      "\u001b[0;31m---------------------------------------------------------------------------\u001b[0m",
      "\u001b[0;31mNameError\u001b[0m                                 Traceback (most recent call last)",
      "\u001b[0;32m<ipython-input-436-d32b791a0ce4>\u001b[0m in \u001b[0;36m<module>\u001b[0;34m()\u001b[0m\n\u001b[1;32m      4\u001b[0m \u001b[0;31m#plt.plot(teste,nPS_cross_section_Ap(Ap_interpolator, teste, Rcone=0.1), linestyle=Linestyle(3), label=r\"$R=0.1$\")\u001b[0m\u001b[0;34m\u001b[0m\u001b[0;34m\u001b[0m\u001b[0m\n\u001b[1;32m      5\u001b[0m \u001b[0mplt\u001b[0m\u001b[0;34m.\u001b[0m\u001b[0mplot\u001b[0m\u001b[0;34m(\u001b[0m\u001b[0mfullE\u001b[0m\u001b[0;34m,\u001b[0m \u001b[0mnp\u001b[0m\u001b[0;34m.\u001b[0m\u001b[0marray\u001b[0m\u001b[0;34m(\u001b[0m\u001b[0mfullspectra\u001b[0m\u001b[0;34m)\u001b[0m\u001b[0;34m,\u001b[0m \u001b[0mlabel\u001b[0m\u001b[0;34m=\u001b[0m\u001b[0;34m\"Full\"\u001b[0m\u001b[0;34m,\u001b[0m \u001b[0mlinestyle\u001b[0m\u001b[0;34m=\u001b[0m\u001b[0mLinestyle\u001b[0m\u001b[0;34m(\u001b[0m\u001b[0;36m1\u001b[0m\u001b[0;34m)\u001b[0m\u001b[0;34m,\u001b[0m \u001b[0mlinewidth\u001b[0m\u001b[0;34m=\u001b[0m\u001b[0mlw\u001b[0m\u001b[0;34m)\u001b[0m\u001b[0;34m\u001b[0m\u001b[0m\n\u001b[0;32m----> 6\u001b[0;31m \u001b[0mplt\u001b[0m\u001b[0;34m.\u001b[0m\u001b[0mplot\u001b[0m\u001b[0;34m(\u001b[0m\u001b[0mfullE\u001b[0m\u001b[0;34m,\u001b[0m \u001b[0mnp\u001b[0m\u001b[0;34m.\u001b[0m\u001b[0marray\u001b[0m\u001b[0;34m(\u001b[0m\u001b[0mfullspectra05\u001b[0m\u001b[0;34m)\u001b[0m\u001b[0;34m,\u001b[0m \u001b[0mlabel\u001b[0m\u001b[0;34m=\u001b[0m\u001b[0;34m\"Full $R=0.5$\"\u001b[0m\u001b[0;34m,\u001b[0m \u001b[0mlinestyle\u001b[0m\u001b[0;34m=\u001b[0m\u001b[0mLinestyle\u001b[0m\u001b[0;34m(\u001b[0m\u001b[0;36m3\u001b[0m\u001b[0;34m)\u001b[0m\u001b[0;34m,\u001b[0m \u001b[0mlinewidth\u001b[0m\u001b[0;34m=\u001b[0m\u001b[0mlw\u001b[0m\u001b[0;34m)\u001b[0m\u001b[0;34m\u001b[0m\u001b[0m\n\u001b[0m\u001b[1;32m      7\u001b[0m \u001b[0mplt\u001b[0m\u001b[0;34m.\u001b[0m\u001b[0mplot\u001b[0m\u001b[0;34m(\u001b[0m\u001b[0mape\u001b[0m\u001b[0;34m,\u001b[0m \u001b[0mnp\u001b[0m\u001b[0;34m.\u001b[0m\u001b[0marray\u001b[0m\u001b[0;34m(\u001b[0m\u001b[0mAp_interpolator\u001b[0m\u001b[0;34m(\u001b[0m\u001b[0mape\u001b[0m\u001b[0;34m)\u001b[0m\u001b[0;34m)\u001b[0m\u001b[0;34m,\u001b[0m \u001b[0mlinestyle\u001b[0m\u001b[0;34m=\u001b[0m\u001b[0mLinestyle\u001b[0m\u001b[0;34m(\u001b[0m\u001b[0;36m2\u001b[0m\u001b[0;34m)\u001b[0m\u001b[0;34m,\u001b[0m \u001b[0mlinewidth\u001b[0m\u001b[0;34m=\u001b[0m\u001b[0;36m2\u001b[0m\u001b[0;34m,\u001b[0m\u001b[0mlabel\u001b[0m\u001b[0;34m=\u001b[0m\u001b[0;34mr\"test ineterp $A\\times pp$\"\u001b[0m\u001b[0;34m)\u001b[0m\u001b[0;34m\u001b[0m\u001b[0m\n\u001b[1;32m      8\u001b[0m \u001b[0;34m\u001b[0m\u001b[0m\n",
      "\u001b[0;31mNameError\u001b[0m: name 'fullspectra05' is not defined"
     ]
    },
    {
     "data": {
      "image/png": "[encoded data removed]",
      "text/plain": [
       "<matplotlib.figure.Figure at 0x10e3b5c10>"
      ]
     },
     "metadata": {},
     "output_type": "display_data"
    }
   ],
   "source": [
    "\n",
    "plt.plot(teste,nPS_cross_section_Ap(Ap_interpolator, teste, Rcone=2*pi), label=r\"Resum $R=2\\pi$\")\n",
    "#plt.plot(teste,nPS_cross_section_Ap(Ap_interpolator, teste, Rcone=0.5), linestyle=Linestyle(1), label=\"Resum $R=0.5$\")\n",
    "#plt.plot(teste,nPS_cross_section_Ap(Ap_interpolator, teste, Rcone=0.1), linestyle=Linestyle(3), label=r\"$R=0.1$\")\n",
    "plt.plot(fullE, np.array(fullspectra), label=\"Full\", linestyle=Linestyle(1), linewidth=lw)\n",
    "plt.plot(fullE, np.array(fullspectra05), label=\"Full $R=0.5$\", linestyle=Linestyle(3), linewidth=lw)\n",
    "plt.plot(ape, np.array(Ap_interpolator(ape)), linestyle=Linestyle(2), linewidth=2,label=r\"test ineterp $A\\times pp$\")\n",
    "\n",
    "yscale(\"log\")\n",
    "plt.ylim(ymin=1e-5, ymax=1e2)\n",
    "\n",
    "plt.xlabel(\"E [GeV]\",fontsize=legfont)\n",
    "plt.ylabel(\"$\\mathrm{d}\\sigma/\\mathrm{d}E$ [mb/GeV]\", fontsize=legfont)\n",
    "\n",
    "leg=legend(prop=dict(size=legfont),labelspacing=0.001,ncol=1,numpoints=1, loc=1)\n",
    "leg.draw_frame(False)"
   ]
  },
  {
   "cell_type": "code",
   "execution_count": 131,
   "metadata": {},
   "outputs": [
    {
     "data": {
      "image/png": "[encoded data removed]",
      "text/plain": [
       "<matplotlib.figure.Figure at 0x1097c4950>"
      ]
     },
     "metadata": {},
     "output_type": "display_data"
    }
   ],
   "source": [
    "smalle=np.linspace(10,800,50)\n",
    "plt.plot(smalle,nPS_cross_section_Ap(Ap_interpolator, smalle, Rcone=2*pi), label=r\"Resum $R=2\\pi$\")\n",
    "#plt.plot(smalle,nPS_cross_section_Ap(Ap_interpolator, smalle, Rcone=0.5), linestyle=Linestyle(1), label=\"Resum $R=0.5$\")\n",
    "\n",
    "plt.plot(ape, np.array(Ap_interpolator(ape)), linestyle=Linestyle(2), label=r\"$A\\times$ pp\")\n",
    "\n",
    "yscale(\"log\")\n",
    "plt.ylim(ymin=1e-0)\n",
    "\n",
    "plt.xlabel(\"E [GeV]\",fontsize=legfont)\n",
    "plt.ylabel(\"$\\mathrm{d}\\sigma/\\mathrm{d}E$ [mb/GeV]\", fontsize=legfont)\n",
    "\n",
    "leg=legend(prop=dict(size=legfont),labelspacing=0.001,ncol=1,numpoints=1, loc=1)\n",
    "leg.draw_frame(False)"
   ]
  },
  {
   "cell_type": "markdown",
   "metadata": {},
   "source": [
    "# Read in data and initialize interpolators"
   ]
  },
  {
   "cell_type": "markdown",
   "metadata": {},
   "source": [
    "Note: cross_section lists here are normalized by the bin width! $\\Rightarrow$ they are $d\\sigma/dE$\n",
    "<br />\n",
    "<br />\n",
    "We initialize interpolators which have units mb/GeV"
   ]
  },
  {
   "cell_type": "code",
   "execution_count": 23,
   "metadata": {},
   "outputs": [
    {
     "name": "stdout",
     "output_type": "stream",
     "text": [
      "Data /Users/hejajama/data/castor/taito/p_Pb_sqrts_5020_m_0.2_lowpt_0.5_intpoints_8_bin_10_eta_smalle/ read at energy values \n",
      "[15.0, 25.0, 35.0, 45.0, 55.0, 65.0, 75.0, 85.0, 95.0, 105.0, 115.0, 125.0, 135.0, 145.0, 155.0, 165.0, 175.0, 185.0, 195.0, 205.0, 215.0, 225.0, 235.0, 245.0, 255.0, 265.0, 275.0, 285.0, 295.0, 305.0, 315.0, 325.0, 335.0, 345.0, 355.0, 365.0, 375.0, 385.0, 395.0, 405.0, 415.0, 425.0, 435.0, 445.0, 455.0, 465.0, 475.0, 485.0, 495.0, 505.0, 515.0, 525.0, 535.0, 545.0, 555.0, 565.0, 575.0, 585.0, 595.0, 605.0, 615.0, 625.0, 635.0, 645.0, 655.0, 665.0, 675.0, 685.0, 695.0, 705.0, 715.0, 725.0, 735.0, 745.0, 755.0, 765.0, 775.0, 785.0, 795.0, 805.0, 815.0, 825.0, 835.0, 845.0, 855.0, 865.0, 875.0, 885.0, 895.0, 905.0, 915.0, 925.0, 935.0, 945.0, 955.0, 965.0, 975.0, 985.0, 995.0, 1005.0, 1015.0, 1025.0, 1035.0, 1045.0, 1055.0, 1065.0, 1075.0, 1085.0, 1095.0, 1105.0, 1115.0, 1125.0, 1135.0, 1145.0, 1155.0, 1165.0, 1175.0, 1185.0, 1195.0, 1205.0, 1215.0, 1225.0, 1235.0, 1245.0, 1255.0, 1265.0, 1275.0, 1285.0, 1295.0, 1305.0, 1315.0, 1325.0, 1335.0, 1345.0, 1355.0, 1365.0, 1375.0, 1385.0, 1395.0, 1405.0, 1415.0, 1425.0, 1435.0, 1445.0, 1455.0, 1465.0, 1475.0, 1485.0, 1495.0, 1505.0, 1515.0, 1525.0, 1535.0, 1545.0, 1555.0, 1565.0, 1575.0, 1585.0, 1595.0, 1605.0, 1615.0, 1625.0, 1635.0, 1645.0, 1655.0, 1665.0]\n"
     ]
    },
    {
     "name": "stderr",
     "output_type": "stream",
     "text": [
      "/usr/local/lib/python2.7/site-packages/ipykernel_launcher.py:33: RuntimeWarning: invalid value encountered in double_scalars\n"
     ]
    }
   ],
   "source": [
    "\n",
    "\n",
    "\n",
    "#yield_to_xs = pi*pow(RA(A),2)\n",
    "#yield_to_xs = sigmainel_pA\n",
    "nuclear_yield_to_xs = 1.0/AverageTA(208,0,99)\n",
    "\n",
    "\n",
    "\n",
    "[nuke_interpolators,proton_interpolator_gev] = Read_pA_data(datadir)\n",
    "invariant_yield = Yield(nuke_interpolators, proton_interpolator_gev, energy_xvals)\n",
    "\n",
    "\n",
    "cross_section=nuclear_yield_to_xs/energy_bin * np.array(invariant_yield)\n",
    "proton_cross_section = sigma02/energy_bin*proton_interpolator_gev(energy_xvals)\n",
    "proton_invariant_yield = sigma02/sigmann * proton_interpolator_gev(energy_xvals)\n",
    "\n",
    "# Ap data\n",
    "Ap_interpolator_in_GeV = Read_Ap_data(datadir)\n",
    "Ap_yield = sigma02/sigmann*Ap_interpolator_in_GeV(energy_xvals)\n",
    "Ap_cross_section = sigma02 / energy_bin * Ap_interpolator_in_GeV(energy_xvals)\n",
    "\n",
    "\n",
    "# Change units to mb, now GeV^(-2)\n",
    "scale_list(cross_section, 1.0/mbgevsqr)\n",
    "scale_list(proton_cross_section, 1.0/mbgevsqr)\n",
    "scale_list(invariant_yield, 1.0/mbgevsqr)\n",
    "scale_list(proton_invariant_yield, 1.0/mbgevsqr)\n",
    "scale_list(Ap_yield, 1.0/mbgevsqr)\n",
    "scale_list(Ap_cross_section, 1.0/mbgevsqr)\n",
    "\n",
    "\n",
    "pA_interpolator = scipy.interpolate.interp1d(energy_xvals, cross_section, kind=\"cubic\")\n",
    "Ap_interpolator = scipy.interpolate.interp1d(energy_xvals, Ap_cross_section, kind=\"cubic\")\n",
    "pp_interpolator = scipy.interpolate.interp1d(energy_xvals, proton_cross_section, kind=\"cubic\")\n",
    "\n"
   ]
  },
  {
   "cell_type": "markdown",
   "metadata": {},
   "source": [
    "Read low-m and high-m datas for comparison"
   ]
  },
  {
   "cell_type": "code",
   "execution_count": null,
   "metadata": {},
   "outputs": [],
   "source": []
  },
  {
   "cell_type": "code",
   "execution_count": null,
   "metadata": {},
   "outputs": [],
   "source": [
    "def Read_large_small_m_interpolators():\n",
    "    [nuke_interpolators_largem,proton_interpolator_gev_largem] = Read_pA_data(datadir_largem)\n",
    "    invariant_yield_largem = Yield(nuke_interpolators_largem, proton_interpolator_gev_largem, energy_xvals)\n",
    "    \n",
    "    #[nuke_interpolators_smallm,proton_interpolator_gev_smallm] = Read_pA_data(datadir_smallm)\n",
    "    #invariant_yield_smallm = Yield(nuke_interpolators_smallm, proton_interpolator_gev_smallm, energy_xvals)\n",
    "\n",
    "    cross_section_largem=nuclear_yield_to_xs/energy_bin * np.array(invariant_yield_largem) / mbgevsqr \n",
    "    proton_cross_section_largem = sigma02/energy_bin*proton_interpolator_gev_largem(energy_xvals) / mbgevsqr\n",
    "    \n",
    "    #cross_section_smallm=nuclear_yield_to_xs/energy_bin * np.array(invariant_yield_smallm) / mbgevsqr \n",
    "    #proton_cross_section_smallm = sigma02/energy_bin*proton_interpolator_gev_smallm(energy_xvals) / mbgevsqr\n",
    "\n",
    "\n",
    "    # Ap data\n",
    "    #Ap_interpolator_in_GeV = Read_Ap_data(datadir)\n",
    "    #Ap_yield = sigma02/sigmann*Ap_interpolator_in_GeV(energy_xvals)\n",
    "    #Ap_cross_section = sigma02 / energy_bin * Ap_interpolator_in_GeV(energy_xvals)\n",
    "\n",
    "\n",
    "    pA_interpolator_largem = scipy.interpolate.interp1d(energy_xvals, cross_section_largem, kind=\"cubic\")\n",
    "    #pA_interpolator_smallm = scipy.interpolate.interp1d(energy_xvals, cross_section_smallm, kind=\"cubic\")\n",
    "    \n",
    "    #Ap_interpolator = scipy.interpolate.interp1d(energy_xvals, Ap_cross_section, kind=\"cubic\")\n",
    "    \n",
    "    pp_interpolator_largem = scipy.interpolate.interp1d(energy_xvals, proton_cross_section_largem, kind=\"cubic\")\n",
    "    #pp_interpolator_smallm = scipy.interpolate.interp1d(energy_xvals, proton_cross_section_smallm, kind=\"cubic\")\n",
    "    \n",
    "    pA_interpolator_smallm=[]\n",
    "    pp_interpolator_smallm=[]\n",
    "    return pA_interpolator_largem, pA_interpolator_smallm, pp_interpolator_largem, pp_interpolator_largem\n",
    "\n",
    "pA_interpolator_largem, pA_interpolator_smallm, pp_interpolator_largem, pp_interpolator_largem = Read_large_small_m_interpolators()"
   ]
  },
  {
   "cell_type": "markdown",
   "metadata": {},
   "source": [
    "Read DPS/3PS data"
   ]
  },
  {
   "cell_type": "code",
   "execution_count": 29,
   "metadata": {},
   "outputs": [
    {
     "name": "stdout",
     "output_type": "stream",
     "text": [
      "Data /Users/hejajama/data/castor/taito/p_Pb_dps_sqrts_5020_m_0.2_lowpt_1.0_mcintpoints_5e6_bin_10_eta/ read at energy values \n",
      "[305.0, 315.0, 325.0, 335.0, 345.0, 355.0, 365.0, 375.0, 385.0, 395.0, 405.0, 415.0, 425.0, 435.0, 445.0, 455.0, 465.0, 475.0, 485.0, 495.0, 505.0, 515.0, 525.0, 535.0, 545.0, 555.0, 565.0, 575.0, 585.0, 595.0, 605.0, 615.0, 625.0, 635.0, 645.0, 655.0, 665.0, 675.0, 685.0, 695.0, 705.0, 715.0, 725.0, 735.0, 745.0, 755.0, 765.0, 775.0, 785.0, 795.0, 805.0, 815.0, 825.0, 835.0, 845.0, 855.0, 865.0, 875.0, 885.0, 895.0, 905.0, 915.0, 925.0, 935.0, 945.0, 955.0, 965.0, 975.0, 985.0, 995.0, 1005.0, 1015.0, 1025.0, 1035.0, 1045.0, 1055.0, 1065.0, 1075.0, 1085.0, 1095.0, 1105.0, 1115.0, 1125.0, 1135.0, 1145.0, 1155.0, 1165.0, 1175.0, 1185.0, 1195.0, 1205.0, 1215.0, 1225.0, 1235.0, 1245.0, 1255.0, 1265.0, 1275.0, 1285.0, 1295.0, 1305.0, 1315.0, 1325.0, 1335.0, 1345.0, 1355.0, 1365.0, 1375.0, 1385.0, 1395.0, 1405.0, 1415.0, 1425.0, 1435.0, 1445.0, 1455.0, 1465.0, 1475.0, 1485.0, 1495.0, 1505.0, 1515.0, 1525.0, 1535.0, 1545.0, 1555.0, 1565.0, 1575.0, 1585.0, 1595.0, 1605.0, 1615.0, 1625.0, 1635.0, 1645.0, 1655.0, 1665.0, 1675.0, 1685.0, 1695.0, 1705.0, 1715.0, 1725.0, 1735.0, 1745.0, 1755.0, 1765.0, 1775.0, 1785.0, 1795.0, 1805.0, 1815.0, 1825.0, 1835.0, 1845.0, 1855.0, 1865.0, 1875.0, 1885.0, 1895.0, 1905.0, 1915.0, 1925.0, 1935.0, 1945.0, 1955.0, 1965.0, 1975.0, 1985.0, 1995.0, 2005.0, 2015.0, 2025.0, 2035.0, 2045.0, 2055.0, 2065.0, 2075.0, 2085.0, 2095.0, 2105.0, 2115.0, 2125.0, 2135.0, 2145.0, 2155.0, 2165.0, 2175.0, 2185.0, 2195.0, 2205.0, 2215.0, 2225.0, 2235.0, 2245.0, 2255.0, 2265.0, 2275.0, 2285.0, 2295.0, 2305.0, 2315.0, 2325.0, 2335.0, 2345.0, 2355.0, 2365.0, 2375.0, 2385.0, 2395.0, 2405.0, 2415.0, 2425.0, 2435.0, 2445.0, 2455.0, 2465.0, 2475.0, 2485.0, 2495.0, 2505.0, 2515.0, 2525.0, 2535.0, 2545.0, 2555.0, 2565.0, 2575.0, 2585.0, 2595.0, 2605.0, 2615.0, 2625.0, 2635.0, 2645.0, 2655.0, 2665.0, 2675.0, 2685.0, 2695.0, 2705.0, 2715.0, 2725.0, 2735.0, 2745.0, 2755.0, 2765.0, 2775.0, 2785.0, 2795.0, 2805.0, 2815.0, 2825.0, 2835.0, 2845.0, 2855.0, 2865.0, 2875.0, 2885.0, 2895.0, 2905.0, 2915.0, 2925.0, 2935.0, 2945.0, 2955.0, 2965.0, 2975.0, 2985.0, 2995.0, 3005.0]\n",
      "Data /Users/hejajama/data/castor/taito/p_Pb_3ps_sqrts_5020_m_0.2_lowpt_1.0_mcintpoints_1e7_bin_10_eta/ read at energy values \n",
      "[305.0, 405.0, 505.0, 605.0, 705.0, 805.0, 905.0, 1005.0, 1105.0, 1205.0, 1305.0, 1405.0, 1505.0, 1605.0, 1705.0, 1805.0, 1905.0, 2005.0, 2105.0, 2205.0, 2305.0, 2405.0, 2505.0, 2605.0, 2705.0, 2805.0, 2905.0, 3005.0]\n"
     ]
    },
    {
     "name": "stderr",
     "output_type": "stream",
     "text": [
      "/usr/local/lib/python2.7/site-packages/ipykernel_launcher.py:33: RuntimeWarning: invalid value encountered in double_scalars\n"
     ]
    }
   ],
   "source": [
    "\n",
    "# pA DPS\n",
    "# Note that Read_pA_DPS() returns dsigma/dE in mb/gev\n",
    "tmp_pA_dps_data = Read_pA_DPS(datadir_dps, energy_dps)\n",
    "pA_DPS_interpolator = scipy.interpolate.interp1d(energy_dps, tmp_pA_dps_data, kind=\"cubic\")\n",
    "\n",
    "# pA 3PS\n",
    "# Again we get directly in GeV/mb\n",
    "tmp_pA_3ps_data = Read_pA_3PS(datadir_3ps, energy_3ps)\n",
    "pA_3PS_interpolator =  scipy.interpolate.interp1d(energy_3ps, tmp_pA_3ps_data, kind=\"cubic\")\n",
    "\n",
    "# read_pp_DPS returns mb/GeV\n",
    "pp_DPS_interpolator = scipy.interpolate.interp1d(energy_dps, Read_pp_DPS(datadir_dps, energy_dps), kind=\"cubic\")"
   ]
  },
  {
   "cell_type": "code",
   "execution_count": 30,
   "metadata": {
    "scrolled": true
   },
   "outputs": [
    {
     "data": {
      "image/png": "[encoded data removed]",
      "text/plain": [
       "<matplotlib.figure.Figure at 0x1101cb9d0>"
      ]
     },
     "metadata": {},
     "output_type": "display_data"
    }
   ],
   "source": [
    "plt.yscale('log')\n",
    "plt.xlim(xmin=600,xmax=3500)\n",
    "#plt.ylim(ymin=1e-3)\n",
    "\n",
    "plt.xlabel(\"E [GeV]\",fontsize=legfont)\n",
    "plt.ylabel(\"$\\mathrm{d}\\sigma/\\mathrm{d}E$ [mb/GeV]\", fontsize=legfont)\n",
    "\n",
    "# Exp data\n",
    "evals_exp=[]\n",
    "exp_spectra=[]\n",
    "binwidth=[]\n",
    "pluserr=[]\n",
    "minuserr=[]\n",
    "[evals_exp, exp_spectra, binwidth, minuserr, pluserr] = ReadExpData(\"/Users/hejajama/data/castor/exp/pA_spectra_w_errors.txt\")\n",
    "plt.errorbar(evals_exp, exp_spectra, xerr=binwidth, yerr=[minuserr,pluserr], marker=datadashes[1], \n",
    "             linestyle='None', label=\"CMS\")\n",
    "\n",
    "\n",
    "# Theory\n",
    "plt.plot(energy_xvals,cross_section, label=\"rcBK\")\n",
    "\n",
    "\n",
    "plt.plot(energy_xvals, 208*np.array(proton_cross_section), label=r\"$A\\times$ proton\", linestyle=Linestyle(1))\n",
    "\n",
    "plt.suptitle(\"pA\", fontsize=legfont)\n",
    "leg=legend(prop=dict(size=legfont),labelspacing=0.001,ncol=1,numpoints=1, loc=1)\n",
    "leg.draw_frame(False)\n",
    "plt.gcf().subplots_adjust(left=0.17)\n",
    "\n",
    "savefig(output_dir+\"pA_spectra.pdf\")"
   ]
  },
  {
   "cell_type": "markdown",
   "metadata": {
    "heading_collapsed": true
   },
   "source": [
    "## Compare SPS with Hannu"
   ]
  },
  {
   "cell_type": "code",
   "execution_count": null,
   "metadata": {
    "hidden": true
   },
   "outputs": [],
   "source": [
    "def CompareSPS_with_Hannu():\n",
    "    plt.yscale('log')\n",
    "    plt.xlim(xmin=500,xmax=3000)\n",
    "    #plt.ylim(ymin=1e-3)\n",
    "\n",
    "    plt.xlabel(\"E [GeV]\",fontsize=legfont)\n",
    "    plt.ylabel(\"$\\mathrm{d}\\sigma/\\mathrm{d}E$ [mb/GeV]\", fontsize=legfont)\n",
    "\n",
    "    # Exp data\n",
    "    evals_exp=[]\n",
    "    exp_spectra=[]\n",
    "    binwidth=[]\n",
    "    pluserr=[]\n",
    "    minuserr=[]\n",
    "    [evals_exp, exp_spectra, binwidth, minuserr, pluserr] = ReadExpData(\"/Users/hejajama/data/castor/exp/pA_spectra_w_errors.txt\")\n",
    "    plt.errorbar(evals_exp, exp_spectra, xerr=binwidth, yerr=[minuserr,pluserr], marker=datadashes[1], \n",
    "                 linestyle='None', label=\"CMS\")\n",
    "\n",
    "\n",
    "    # Theory\n",
    "    plt.plot(energy_xvals,cross_section, label=\"rcBK (SPS only)\")\n",
    "\n",
    "    # Hannu\n",
    "    xdata=[]\n",
    "    ydata=[]\n",
    "    readfile_xy(\"/Users/hejajama/data/castor/hannu/lo_sps_p_Pb_y_5.2_6.6\", xdata,ydata, xcol=0, ycol=2)\n",
    "    tmp=[]\n",
    "    xdata2=[]\n",
    "    readfile_xy(\"/Users/hejajama/data/castor/hannu/lo_sps_p_Pb_y_5.2_6.6\", xdata2,tmp, xcol=1, ycol=2)\n",
    "    for i in range(len(xdata)):\n",
    "        xdata[i] = (xdata[i] + xdata2[i])/2.0\n",
    "    \n",
    "    plt.plot(xdata, ydata, label=\"Hannu LO SPS\", linestyle=Linestyle(1))\n",
    "    plt.suptitle(\"pA\", fontsize=legfont)\n",
    "    leg=legend(prop=dict(size=legfont),labelspacing=0.001,ncol=1,numpoints=1, loc=1)\n",
    "    leg.draw_frame(False)\n",
    "    plt.gcf().subplots_adjust(left=0.17)\n",
    "\n",
    "    savefig(output_dir+\"hannu_comparison.pdf\")\n",
    "\n",
    "CompareSPS_with_Hannu()"
   ]
  },
  {
   "cell_type": "markdown",
   "metadata": {
    "heading_collapsed": true
   },
   "source": [
    "# Include DPS"
   ]
  },
  {
   "cell_type": "code",
   "execution_count": 137,
   "metadata": {
    "hidden": true
   },
   "outputs": [
    {
     "data": {
      "image/png": "[encoded data removed]",
      "text/plain": [
       "<matplotlib.figure.Figure at 0x1108550d0>"
      ]
     },
     "metadata": {},
     "output_type": "display_data"
    }
   ],
   "source": [
    " def Plot_pA_spectra_w_wo_DPS():\n",
    "    plt.yscale('log')\n",
    "    plt.xlim(xmin=500,xmax=3000)\n",
    "    plt.ylim(ymin=1e-4)\n",
    "\n",
    "    plt.xlabel(\"$E\\ [\\mathrm{GeV}]$\",fontsize=legfont)\n",
    "    plt.ylabel(\"$\\mathrm{d}\\sigma/\\mathrm{d}E$ $[\\mathrm{mb}/\\mathrm{GeV}]$\", fontsize=legfont)\n",
    "\n",
    "    # Exp data\n",
    "    [evals_exp, exp_spectra, binwidth, minuserr, pluserr] = ReadExpData(\"/Users/hejajama/data/castor/exp/pA_spectra_w_errors.txt\")\n",
    "    plt.errorbar(evals_exp, exp_spectra, xerr=binwidth, yerr=[minuserr,pluserr], marker=datadashes[1], \n",
    "                 linestyle='None', label=\"CMS\", color=Color(0))\n",
    "\n",
    "\n",
    "\n",
    "    pA_cross_section=pA_interpolator(energy_xvals)\n",
    "\n",
    "    # Theory\n",
    "    # Add DPS\n",
    "    dps_to_pA = pA_DPS_factorized(energy_xvals, pA_interpolator, sigma_eff/mbgevsqr, A)\n",
    "    plt.plot(energy_xvals,np.array(pA_cross_section), label=\"rcBK\", linestyle=Linestyle(0), color=Color(0), linewidth=lw)\n",
    "   \n",
    "\n",
    "    # Add DPS with DPDF\n",
    "    totxs_w_dps = np.array(pA_interpolator(energy_dps)) + np.array(pA_DPS_interpolator(energy_dps))\n",
    "    plt.plot(energy_dps, totxs_w_dps, linestyle=Linestyle(1), linewidth=lw, color=Color(1), label=\"rcBK+DPS\")\n",
    "    \n",
    "    # DPS w/o kic\n",
    "    plt.plot(energy_xvals,np.array(pA_cross_section)+np.array(dps_to_pA), label=\"rcBK+DPS (fact)\", linestyle=Linestyle(2), color=Color(2), linewidth=lw+0.3)\n",
    "    \n",
    "    #plt.suptitle(\"pA\", fontsize=legfont)\n",
    "\n",
    "    leg=legend(prop=dict(size=legfont),labelspacing=0.001,ncol=1,numpoints=1, loc=1)\n",
    "    leg.draw_frame(False)\n",
    "    plt.gcf().subplots_adjust(left=0.15)\n",
    "    plt.gcf().subplots_adjust(bottom=0.15)\n",
    "\n",
    "    #savefig(output_dir+\"pA_spectra_with_dps.pdf\")\n",
    "    #savefig(output_dir_paper+\"pA_spectra_with_dps.pdf\")\n",
    "\n",
    "Plot_pA_spectra_w_wo_DPS()"
   ]
  },
  {
   "cell_type": "markdown",
   "metadata": {
    "heading_collapsed": true
   },
   "source": [
    "# Relative improtrance of DPS: compute DPS/Single"
   ]
  },
  {
   "cell_type": "markdown",
   "metadata": {
    "hidden": true
   },
   "source": [
    "pA"
   ]
  },
  {
   "cell_type": "code",
   "execution_count": null,
   "metadata": {
    "hidden": true
   },
   "outputs": [],
   "source": [
    "ratio_factorized_pA = pA_DPS_factorized(energy_xvals, pA_interpolator, sigma_eff/mbgevsqr, A) / pA_interpolator(energy_xvals)\n",
    "ratio_pA = pA_DPS_interpolator(energy_dps) / pA_interpolator(energy_dps)\n",
    "ratio_pp =  pp_DPS_interpolator(energy_dps) / pp_interpolator(energy_dps)\n",
    "#ratio_Ap = Ap_DPS(energy_xvals, Ap_interpolator, sigma_eff/mbgevsqr, A) / Ap_interpolator(energy_xvals)\n",
    "#ratio_pp = DPS_cross_section(energy_xvals, pp_interpolator, sigma_eff/mbgevsqr) / pp_interpolator(energy_xvals)\n",
    "\n",
    "\n",
    "plt.plot(energy_xvals, ratio_factorized_pA, linestyle=Linestyle(0), label=\"pA (fact)\", linewidth=lw, color=Color(0))\n",
    "plt.plot(energy_dps, ratio_pA, linestyle=Linestyle(1), label=\"pA\", linewidth=lw, color=Color(1))\n",
    "plt.plot(energy_dps, ratio_pp, label=\"pp\", linestyle=Linestyle(2), color=Color(2), linewidth=lw+0.3)\n",
    "\n",
    "plt.ylabel(\"$\\mathrm{DPS}/\\mathrm{Single}$\", fontsize=legfont)\n",
    "plt.xlabel(\"$E\\ [\\mathrm{GeV}]$\", fontsize=legfont)\n",
    "plt.ylim(ymax=1.2)\n",
    "plt.xlim(xmax=3000)\n",
    "leg=legend(prop=dict(size=legfont),labelspacing=0.001,ncol=1,numpoints=1, loc=2)\n",
    "leg.draw_frame(False)\n",
    "plt.gcf().subplots_adjust(bottom=0.15)\n",
    "savefig(output_dir + \"dps_single_ratio_pA.pdf\")\n",
    "#plt.yscale(\"log\")"
   ]
  },
  {
   "cell_type": "markdown",
   "metadata": {
    "hidden": true
   },
   "source": [
    "pp"
   ]
  },
  {
   "cell_type": "code",
   "execution_count": null,
   "metadata": {
    "hidden": true
   },
   "outputs": [],
   "source": [
    "ratio_factorized_pp = np.array(DPS_cross_section(energy_xvals, pp_interpolator, sigma_eff/mbgevsqr)) / pp_interpolator(energy_xvals)\n",
    "ratio_pp =  pp_DPS_interpolator(energy_dps) / pp_interpolator(energy_dps)\n",
    "#ratio_Ap = Ap_DPS(energy_xvals, Ap_interpolator, sigma_eff/mbgevsqr, A) / Ap_interpolator(energy_xvals)\n",
    "#ratio_pp = DPS_cross_section(energy_xvals, pp_interpolator, sigma_eff/mbgevsqr) / pp_interpolator(energy_xvals)\n",
    "\n",
    "\n",
    "plt.plot(energy_xvals, ratio_factorized_pA, linestyle=Linestyle(0), label=\"Factorized\", linewidth=lw, color=Color(0))\n",
    "plt.plot(energy_dps, ratio_pA, linestyle=Linestyle(1), label=\"Kinematical constraint\", linewidth=lw, color=Color(1))\n",
    "#plt.plot(energy_xvals, ratio_Ap, label=\"Ap\", linestyle=Linestyle(2))\n",
    "\n",
    "plt.ylabel(\"$\\mathrm{DPS}/\\mathrm{Single}$\", fontsize=legfont)\n",
    "plt.xlabel(\"$E\\ [\\mathrm{GeV}]$\", fontsize=legfont)\n",
    "plt.ylim(ymax=1.2)\n",
    "plt.xlim(xmax=3000)\n",
    "leg=legend(prop=dict(size=legfont),labelspacing=0.001,ncol=1,numpoints=1, loc=2)\n",
    "leg.draw_frame(False)\n",
    "plt.gcf().subplots_adjust(bottom=0.15)\n",
    "#savefig(output_dir + \"dps_single_ratio_pA.pdf\")\n",
    "#plt.yscale(\"log\")"
   ]
  },
  {
   "cell_type": "markdown",
   "metadata": {
    "heading_collapsed": true
   },
   "source": [
    "# 3 parton scattering"
   ]
  },
  {
   "cell_type": "code",
   "execution_count": null,
   "metadata": {
    "hidden": true
   },
   "outputs": [],
   "source": [
    "def Compare_2_3_PS():\n",
    "    ratio_pA_DPS = pA_DPS_interpolator(energy_dps) / pA_interpolator(energy_dps)\n",
    "    ratio_pA_3PS = pA_3PS_interpolator(energy_3ps) / pA_interpolator(energy_3ps)\n",
    "    \n",
    "    plt.plot(energy_dps, ratio_pA_DPS, linestyle=Linestyle(0), label=\"DPS\", linewidth=lw, color=Color(0))\n",
    "    plt.plot(energy_3ps, ratio_pA_3PS, linestyle=Linestyle(1), label=\"3PS\", linewidth=lw, color=Color(1))\n",
    "\n",
    "    plt.ylabel(\"$\\mathrm{nPS}/\\mathrm{Single}$\", fontsize=legfont)\n",
    "    plt.xlabel(\"$E\\ [\\mathrm{GeV}]$\", fontsize=legfont)\n",
    "    plt.ylim(ymax=1.2)\n",
    "    plt.xlim(xmax=3000,xmin=500)\n",
    "    leg=legend(prop=dict(size=legfont),labelspacing=0.001,ncol=1,numpoints=1, loc=2)\n",
    "    leg.draw_frame(False)\n",
    "    \n",
    "    #plt.suptitle(\"pA\", fontsize=legfont)\n",
    "    plt.gcf().subplots_adjust(bottom=0.15)\n",
    "    \n",
    "    #savefig(output_dir + \"/dps_3ps_single_ratio_pA.pdf\")\n",
    "    #savefig(output_dir_paper + \"/dps_3ps_single_ratio_pA.pdf\")\n",
    "Compare_2_3_PS()"
   ]
  },
  {
   "cell_type": "markdown",
   "metadata": {},
   "source": [
    "# Ap spectra"
   ]
  },
  {
   "cell_type": "code",
   "execution_count": 133,
   "metadata": {},
   "outputs": [
    {
     "data": {
      "image/png": "[encoded data removed]",
      "text/plain": [
       "<matplotlib.figure.Figure at 0x1090a6b90>"
      ]
     },
     "metadata": {},
     "output_type": "display_data"
    }
   ],
   "source": [
    "Ap_spectra_with_dps = Ap_interpolator(energy_xvals) + Ap_DPS(energy_xvals, Ap_interpolator, sigma_eff/mbgevsqr,A)\n",
    "\n",
    "### data\n",
    "[evals_exp, exp_spectra, binwidth, minuserr, pluserr] = ReadExpData(\"/Users/hejajama/data/castor/exp/Ap_spectra_w_errors_fix.txt\")\n",
    "plt.errorbar(evals_exp, exp_spectra, xerr=binwidth, yerr=[minuserr,pluserr], marker=datadashes[1], \n",
    "             linestyle='None', label=\"CMS\")\n",
    "\n",
    "plt.xlabel(\"E [GeV]\",fontsize=legfont)\n",
    "plt.ylabel(\"$\\mathrm{d}\\sigma/\\mathrm{d}E$ [mb/GeV]\", fontsize=legfont)\n",
    "\n",
    "plt.plot(energy_xvals, Ap_interpolator(energy_xvals), label=r\"$A\\times pp$\")\n",
    "#plt.plot(energy_xvals, Ap_spectra_with_dps, label=\"EPS09+rcBK+DPS\")\n",
    "plt.plot(energy_xvals, 1.0/A*np.array(Ap_interpolator(energy_xvals)), label=\"pp\")\n",
    "#plt.plot(energy_xvals, Ap_interpolator(energy_xvals), label=\"EPS09+rcBK\", linestyle=Linestyle(1))\n",
    "\n",
    "resumene=np.linspace(40,4000,20)\n",
    "plt.plot(resumene, nPS_cross_section_Ap(Ap_interpolator, resumene, Rcone=2*pi), linestyle=Linestyle(2), color=Color(0), linewidth=lw+1, label=\"Approx $R=2\\pi$\")\n",
    "#plt.plot(resumene, nPS_cross_section_Ap(Ap_interpolator, resumene, Rcone=pi), linestyle=Linestyle(2), color=Color(2), linewidth=lw, label=\"$+$ resum $R=\\pi$\")\n",
    "#plt.plot(resumene, nPS_cross_section_Ap(Ap_interpolator, resumene, Rcone=1), linestyle=Linestyle(2), color=Color(1), linewidth=lw, label=\"$+$ resum $R=1$\")\n",
    "#plt.plot(resumene, nPS_cross_section_Ap(Ap_interpolator, resumene, Rcone=0.5), linestyle=Linestyle(2), color=Color(1), linewidth=lw, label=\"Approx $R=0.5$\")\n",
    "plt.plot(fullE, fullspectra, label=\"Full $2\\pi$\", linestyle=Linestyle(3),linewidth=2)\n",
    "\n",
    "\n",
    "#resumene=np.linspace(500,5000,400)\n",
    "#plt.plot(resumene, nPS_cross_section_Ap(pp_interpolator, resumene, Rcone=1), linestyle=Linestyle(3), label=\"resum $R=1$\")\n",
    "\n",
    "\n",
    "\n",
    "plt.yscale(\"log\")\n",
    "plt.ylim(ymin=1e-4, ymax=500)\n",
    "plt.xlim(xmin=0,xmax=4000)\n",
    "\n",
    "plt.suptitle(r\"Ap, $p_{T,min}=0.2\\ \\mathrm{GeV}$\", fontsize=legfont)\n",
    "\n",
    "\n",
    "leg=legend(prop=dict(size=legfont-3),labelspacing=0.001,ncol=1,numpoints=1, loc=1)\n",
    "leg.draw_frame(False)\n",
    "savefig(output_dir+\"spectra_Ap.pdf\")\n",
    "\n",
    "#for x,y in zip(energy_xvals,Ap_interpolator(energy_xvals)):\n",
    "#    print x,y/A*mbgevsqr"
   ]
  },
  {
   "cell_type": "code",
   "execution_count": 124,
   "metadata": {},
   "outputs": [
    {
     "data": {
      "image/png": "[encoded data removed]",
      "text/plain": [
       "<matplotlib.figure.Figure at 0x1092732d0>"
      ]
     },
     "metadata": {},
     "output_type": "display_data"
    }
   ],
   "source": [
    "Ap_spectra_with_dps = Ap_interpolator(energy_xvals) + Ap_DPS(energy_xvals, Ap_interpolator, sigma_eff/mbgevsqr,A)\n",
    "\n",
    "### data\n",
    "[evals_exp, exp_spectra, binwidth, minuserr, pluserr] = ReadExpData(\"/Users/hejajama/data/castor/exp/Ap_spectra_w_errors.txt\")\n",
    "plt.errorbar(evals_exp, exp_spectra, xerr=binwidth, yerr=[minuserr,pluserr], marker=datadashes[1], \n",
    "             linestyle='None', label=\"CMS\")\n",
    "\n",
    "plt.xlabel(\"E [GeV]\",fontsize=legfont)\n",
    "plt.ylabel(\"$\\mathrm{d}\\sigma/\\mathrm{d}E$ [mb/GeV]\", fontsize=legfont)\n",
    "\n",
    "plt.plot(energy_xvals, Ap_interpolator(energy_xvals), label=r\"$A\\times pp$\")\n",
    "#plt.plot(energy_xvals, Ap_spectra_with_dps, label=\"EPS09+rcBK+DPS\")\n",
    "plt.plot(energy_xvals, 1.0/A*np.array(Ap_interpolator(energy_xvals)), label=\"pp\")\n",
    "#plt.plot(energy_xvals, Ap_interpolator(energy_xvals), label=\"EPS09+rcBK\", linestyle=Linestyle(1))\n",
    "\n",
    "resumene=np.linspace(40,4000,20)\n",
    "plt.plot(resumene, nPS_cross_section_Ap(Ap_interpolator, resumene, Rcone=1), linestyle=Linestyle(2), color=Color(0), linewidth=lw+1, label=\"Approx $R=1$\")\n",
    "plt.plot(resumene, nPS_cross_section_Ap_suppression(Ap_interpolator, resumene, Rcone=1), linestyle=Linestyle(1), color=Color(1), linewidth=lw+1, label=\"Approx w suppr $R=1$\") \n",
    "\n",
    "#plt.plot(resumene, nPS_cross_section_Ap(Ap_interpolator, resumene, Rcone=0.5), linestyle=Linestyle(2), color=Color(1), linewidth=lw, label=\"Approx $R=0.5$\")\n",
    "plt.plot(fullE, fullspectra, label=\"Full $2\\pi$\", linestyle=Linestyle(3),linewidth=2)\n",
    "\n",
    "\n",
    "#resumene=np.linspace(500,5000,400)\n",
    "#plt.plot(resumene, nPS_cross_section_Ap(pp_interpolator, resumene, Rcone=1), linestyle=Linestyle(3), label=\"resum $R=1$\")\n",
    "\n",
    "\n",
    "\n",
    "plt.yscale(\"log\")\n",
    "plt.ylim(ymin=1e-4, ymax=500)\n",
    "plt.xlim(xmin=0,xmax=4000)\n",
    "\n",
    "plt.suptitle(r\"Ap, $p_{T,min}=0.2\\ \\mathrm{GeV}$\", fontsize=legfont)\n",
    "\n",
    "\n",
    "leg=legend(prop=dict(size=legfont-3),labelspacing=0.001,ncol=1,numpoints=1, loc=1)\n",
    "leg.draw_frame(False)\n",
    "\n",
    "\n",
    "#for x,y in zip(energy_xvals,Ap_interpolator(energy_xvals)):\n",
    "#    print x,y/A*mbgevsqr"
   ]
  },
  {
   "cell_type": "code",
   "execution_count": 283,
   "metadata": {},
   "outputs": [
    {
     "data": {
      "text/plain": [
       "Text(0.5,0.98,u'Ap')"
      ]
     },
     "execution_count": 283,
     "metadata": {},
     "output_type": "execute_result"
    },
    {
     "data": {
      "image/png": "[encoded data removed]",
      "text/plain": [
       "<matplotlib.figure.Figure at 0x110c13250>"
      ]
     },
     "metadata": {},
     "output_type": "display_data"
    }
   ],
   "source": [
    "dps_ratio_Ap=Ap_DPS(energy_xvals, Ap_interpolator, sigma_eff/mbgevsqr,A) / Ap_interpolator(energy_xvals)\n",
    "plt.xlim(xmin=500,xmax=max_energy)\n",
    "#plt.ylim(ymax=1, ymin=0.01)\n",
    "#plt.yscale(\"log\")\n",
    "plt.plot(energy_xvals, dps_ratio_Ap, label=\"DPS / single\")\n",
    "leg=legend(prop=dict(size=legfont),labelspacing=0.001,ncol=1,numpoints=1, loc=4)\n",
    "leg.draw_frame(False)\n",
    "plt.suptitle(\"Ap\", fontsize=legfont)"
   ]
  },
  {
   "cell_type": "markdown",
   "metadata": {
    "heading_collapsed": true
   },
   "source": [
    "# Ratio to data"
   ]
  },
  {
   "cell_type": "code",
   "execution_count": null,
   "metadata": {
    "hidden": true
   },
   "outputs": [],
   "source": [
    "def CompareData():\n",
    "    # Read pA data\n",
    "    [evals_exp, exp_spectra, binwidth, minuserr, pluserr] = ReadExpData(\"/Users/hejajama/data/castor/exp/pA_spectra_w_errors.txt\")\n",
    "\n",
    "    theoryvals=pA_interpolator(evals_exp)\n",
    "    theoryvals_w_dps=np.array(theoryvals)+pA_DPS_factorized(evals_exp, pA_interpolator, sigma_eff/mbgevsqr, A)\n",
    "    ratiovals = [th/exp for th,exp in zip(theoryvals,exp_spectra)]\n",
    "    ratiovals_w_dps = [th/exp for th,exp in zip(theoryvals_w_dps,exp_spectra)]\n",
    "\n",
    "    plt.plot(evals_exp, ratiovals, label=\"rcBK\", linestyle=Linestyle(0),color=Color(0), linewidth=lw)\n",
    "   \n",
    "    \n",
    "    # Add DPDF\n",
    "    evals_exp_for_dpdf = [e for e in evals_exp if e <= energy_dps[-1]]\n",
    "    #dps_with_dpdf = Read_pA_DPS(datadir_dps, evals_exp_for_dpdf)\n",
    "    totxs_w_dps = np.array(pA_interpolator(evals_exp_for_dpdf)) + np.array(pA_DPS_interpolator(evals_exp_for_dpdf))\n",
    "    ratiovals_w_dpdf = [th/exp for th,exp in zip(totxs_w_dps, exp_spectra)]\n",
    "    plt.plot(evals_exp_for_dpdf, ratiovals_w_dpdf, linestyle=Linestyle(1), color=Color(1), label=\"rcBK+DPS\", linewidth=lw)\n",
    "    \n",
    "    # factorized\n",
    "    plt.plot(evals_exp, ratiovals_w_dps, label=\"rcBK+DPS (fact)\", linestyle=Linestyle(2), color=Color(2), linewidth=lw+0.3)\n",
    "    \n",
    "    #plt.yscale('log')\n",
    "    plt.ylabel(\"$\\mathrm{Theory}/\\mathrm{exp}$\", fontsize=legfont)\n",
    "    plt.xlabel(\"$E\\ [\\mathrm{GeV}]$\", fontsize=legfont)\n",
    "    plt.xlim(xmin=500,xmax=2500)\n",
    "    plt.ylim(ymin=0.0, ymax=1.5)\n",
    "    leg=legend(prop=dict(size=legfont),labelspacing=0.001,ncol=1,numpoints=1, loc=3)\n",
    "    leg.draw_frame(False)\n",
    "\n",
    "    plt.suptitle(\"pA\", fontsize=legfont)\n",
    "\n",
    "    \n",
    "    savefig(output_dir+\"pA_theory_exp_ratio.pdf\")\n",
    "    \n",
    "CompareData()"
   ]
  },
  {
   "cell_type": "markdown",
   "metadata": {
    "heading_collapsed": true
   },
   "source": [
    "# PlotRpA"
   ]
  },
  {
   "cell_type": "code",
   "execution_count": null,
   "metadata": {
    "hidden": true
   },
   "outputs": [],
   "source": [
    "def ComputeRpA():\n",
    "    rpa_evals=[x for x in energy_xvals]\n",
    "    rpa=[pA_interpolator(e)/(A*pp_interpolator(e)) for e in rpa_evals if pp_interpolator(e)>0]\n",
    "    rpa_evals=[ene for ene in rpa_evals if pp_interpolator(ene)>0]\n",
    "\n",
    "    rpa_with_dps = [pA/(A*pp) for pA,pp in zip( \n",
    "        np.array(pA_interpolator(rpa_evals)) + pA_DPS_factorized(rpa_evals, pA_interpolator, sigma_eff/mbgevsqr, A), \n",
    "        np.array(pp_interpolator(rpa_evals)) + np.array(DPS_cross_section(rpa_evals, pp_interpolator, sigma_eff/mbgevsqr)))]\n",
    "\n",
    "    plt.plot(rpa_evals, rpa, label=r\"rcBK\", color=Color(0), linewidth=lw)\n",
    "    \n",
    "\n",
    "\n",
    "    # With DPDF\n",
    "    \n",
    "    #pp_dps_interpolator = scipy.interpolate.interp1d(energy_dps, Read_pp_DPS(datadir_dps, energy_dps), kind=\"cubic\")\n",
    "\n",
    "    #dps_with_dpdf = Read_pA_DPS(datadir_dps, energy_dps)\n",
    "    totxs_w_dps = np.array(pA_interpolator(energy_dps)) + np.array(pA_DPS_interpolator(energy_dps))\n",
    "    proton_xs_dps = np.array(pp_interpolator(energy_dps)) + np.array(pp_DPS_interpolator(energy_dps))\n",
    "    ratio_w_dpdf = [pA/(A*pp) for pA,pp in zip(totxs_w_dps, proton_xs_dps)]\n",
    "    \n",
    "    plt.plot(energy_dps, ratio_w_dpdf, label=\"rcBK+DPS\", linestyle=Linestyle(1), color=Color(1), linewidth=lw)\n",
    "    \n",
    "    \n",
    "    #\n",
    "    plt.plot(rpa_evals, rpa_with_dps, label=r\"rcBK+DPS (fact)\", linestyle=Linestyle(2), linewidth=lw+0.3, color=Color(2))\n",
    "\n",
    "    plt.xlabel(\"$E\\ [\\mathrm{GeV}]$\",fontsize=legfont)\n",
    "    plt.ylabel(r\"$R_{pA}$\",fontsize=legfont)\n",
    "    plt.ylim(ymax=1.1)\n",
    "    plt.xlim(xmin=500,xmax=max_energy)\n",
    "    leg=legend(prop=dict(size=legfont),labelspacing=0.001,ncol=1,numpoints=1, loc=4)\n",
    "    leg.draw_frame(False)\n",
    "\n",
    "    #savefig(output_dir+\"rpa.pdf\")\n",
    "    #savefig(output_dir_paper + \"rpa.pdf\")\n",
    "    \n",
    "ComputeRpA()"
   ]
  },
  {
   "cell_type": "code",
   "execution_count": null,
   "metadata": {
    "hidden": true
   },
   "outputs": [],
   "source": [
    "def pA_vs_pp_with_DPS():\n",
    "   \n",
    "   \n",
    "\n",
    "    pA_w_dps =  0*np.array(pA_interpolator(energy_xvals)) + np.array(pA_DPS_factorized(energy_xvals, pA_interpolator, sigma_eff/mbgevsqr, 208))\n",
    "    pp_w_fact_dps = 0*np.array(pp_interpolator(energy_xvals)) + np.array(DPS_cross_section(energy_xvals, pp_interpolator, sigma_eff/mbgevsqr))\n",
    "\n",
    "    scale_list(pA_w_dps, 1.0/A)\n",
    "    \n",
    "    plt.plot(energy_xvals, pA_w_dps, label=r\"pA fact DPS\", color=Color(0), linewidth=lw)\n",
    "    plt.plot(energy_xvals, pp_w_fact_dps, label=r\"pp fact DPS\", color=Color(1), linestyle=Linestyle(1), linewidth=lw)\n",
    "\n",
    "    \n",
    "   # for pa,pp in zip(pA_w_dps, pp_w_fact_dps):\n",
    "    #    print pa/pp\n",
    "\n",
    "    # With DPDF\n",
    "    \n",
    "    #pp_dps_interpolator = scipy.interpolate.interp1d(energy_dps, Read_pp_DPS(datadir_dps, energy_dps), kind=\"cubic\")\n",
    "\n",
    "    #dps_with_dpdf = Read_pA_DPS(datadir_dps, energy_dps)\n",
    "    #totxs_w_dps = np.array(pA_interpolator(energy_dps)) + np.array(pA_DPS_interpolator(energy_dps))\n",
    "    #proton_xs_dps = np.array(pp_interpolator(energy_dps)) + np.array(pp_dps_interpolator(energy_dps))\n",
    "    #ratio_w_dpdf = [pA/(A*pp) for pA,pp in zip(totxs_w_dps, proton_xs_dps)]\n",
    "    \n",
    "    #plt.plot(energy_dps, ratio_w_dpdf, label=\"rcBK+DPS w DPDF\", linestyle=Linestyle(1), color=Color(1), linewidth=lw)\n",
    "    \n",
    "    \n",
    "    #\n",
    "   # plt.plot(rpa_evals, rpa_with_dps, label=r\"rcBK + DPS (fact)\", linestyle=Linestyle(2), linewidth=lw+0.3, color=Color(2))\n",
    "\n",
    "    plt.xlabel(\"$E\\ [\\mathrm{GeV}]$\",fontsize=legfont)\n",
    "    plt.ylabel(r\"$R_{pA}$\",fontsize=legfont)\n",
    "    #plt.ylim(ymax=1.2)\n",
    "    yscale(\"log\")\n",
    "    plt.xlim(xmin=1000,xmax=max_energy)\n",
    "    #plt.ylim(ymin=1e-7, ymax=1e-4)\n",
    "    leg=legend(prop=dict(size=legfont),labelspacing=0.001,ncol=1,numpoints=1, loc=4)\n",
    "    leg.draw_frame(False)\n",
    "\n",
    "    #savefig(output_dir+\"rpa.pdf\")\n",
    "    \n",
    "pA_vs_pp_with_DPS()"
   ]
  },
  {
   "cell_type": "code",
   "execution_count": null,
   "metadata": {
    "hidden": true
   },
   "outputs": [],
   "source": [
    "def pA_vs_pp_with_nofactor_DPS():\n",
    "   \n",
    "   \n",
    "\n",
    "    \n",
    "\n",
    "    # With DPDF\n",
    "    \n",
    "    #pp_dps_interpolator = scipy.interpolate.interp1d(energy_dps, Read_pp_DPS(datadir_dps, energy_dps), kind=\"cubic\")\n",
    "\n",
    "    #dps_with_dpdf = Read_pA_DPS(datadir_dps, energy_dps)\n",
    "    totxs_w_dps = np.array(pA_interpolator(energy_dps)) + np.array(pA_DPS_interpolator(energy_dps))\n",
    "    proton_xs_dps = np.array(pp_interpolator(energy_dps)) + np.array(pp_DPS_interpolator(energy_dps))\n",
    "    \n",
    "    scale_list(totxs_w_dps, 1.0/A)\n",
    "    \n",
    "    plt.plot(energy_dps, totxs_w_dps, label=\"pA w DPS\", linestyle=Linestyle(1), color=Color(1), linewidth=lw)\n",
    "    plt.plot(energy_dps, proton_xs_dps, label=r\"pp w DPS\", linestyle=Linestyle(2), linewidth=lw+0.3, color=Color(2))\n",
    "\n",
    "    plt.xlabel(\"$E\\ [\\mathrm{GeV}]$\",fontsize=legfont)\n",
    "    plt.ylabel(r\"$R_{pA}$\",fontsize=legfont)\n",
    "    #plt.ylim(ymax=1.2)\n",
    "    yscale(\"log\")\n",
    "    plt.xlim(xmin=2000,xmax=max_energy)\n",
    "    plt.ylim(ymin=1e-7, ymax=1e-4)\n",
    "    leg=legend(prop=dict(size=legfont),labelspacing=0.001,ncol=1,numpoints=1, loc=4)\n",
    "    leg.draw_frame(False)\n",
    "\n",
    "    \n",
    "pA_vs_pp_with_nofactor_DPS()"
   ]
  },
  {
   "cell_type": "markdown",
   "metadata": {
    "heading_collapsed": true
   },
   "source": [
    "# pA / Ap ratio"
   ]
  },
  {
   "cell_type": "code",
   "execution_count": null,
   "metadata": {
    "hidden": true
   },
   "outputs": [],
   "source": [
    "theory_pA_Ap_ratio = [pA_interpolator(e) / Ap_interpolator(e) for e in energy_xvals]\n",
    "\n",
    "theory_pA_Ap_ratio_w_dps = [pA/Ap for pA,Ap in zip( \n",
    "    np.array(pA_interpolator(energy_xvals))+pA_DPS_factorized(energy_xvals, pA_interpolator, sigma_eff/mbgevsqr, A), \n",
    "    Ap_interpolator(energy_xvals) + Ap_DPS(energy_xvals, Ap_interpolator, sigma_eff/mbgevsqr, A))]\n",
    "\n",
    "# Read data\n",
    "[evals_exp, pA_Ap_ratio, binwidth, minuserr, pluserr] = ReadExpData(\"/Users/hejajama/data/castor/exp/pA_Ap_w_errors.txt\")\n",
    "plt.errorbar(evals_exp, pA_Ap_ratio, xerr=binwidth, yerr=[minuserr,pluserr], marker=datadashes[1], \n",
    "             linestyle='None', label=\"CMS\")\n",
    "\n",
    "plt.plot(energy_xvals, np.array(theory_pA_Ap_ratio), label=\"EPS09+BK (no DPS)\")\n",
    "plt.plot(energy_xvals, theory_pA_Ap_ratio_w_dps, label=\"EPS09+BK (+ DPS)\", linestyle=Linestyle(1))\n",
    "\n",
    "\n",
    "\n",
    "plt.ylabel(\"p+Pb / Pb+p\", fontsize=legfont)\n",
    "plt.xlabel(\"$E$ $[$GeV$]$\", fontsize=legfont)\n",
    "plt.ylim(ymax=1.2,ymin=0)\n",
    "plt.xlim(xmin=500)\n",
    "leg=legend(prop=dict(size=legfont),labelspacing=0.001,ncol=1,numpoints=1, loc=1)\n",
    "leg.draw_frame(False)\n",
    "\n",
    "savefig(output_dir + \"pA_Ap_ratio.pdf\")"
   ]
  },
  {
   "cell_type": "markdown",
   "metadata": {
    "heading_collapsed": true
   },
   "source": [
    "# DPS comparison"
   ]
  },
  {
   "cell_type": "code",
   "execution_count": null,
   "metadata": {
    "hidden": true
   },
   "outputs": [],
   "source": [
    "plt.plot(energy_xvals,pA_DPS_factorized(energy_xvals, pA_interpolator, sigma_eff/mbgevsqr,A), label=\"pA\")\n",
    "plt.plot(energy_xvals,Ap_DPS(energy_xvals, Ap_interpolator, sigma_eff/mbgevsqr,A), label=\"Ap\", linestyle=Linestyle(1))\n",
    "\n",
    "plt.ylabel(\"DPS $d\\sigma/dE$\", fontsize=legfont)\n",
    "plt.xlabel(\"$E$ $[$GeV$]$\", fontsize=legfont)\n",
    "#plt.ylim(ymax=1.2,ymin=0)\n",
    "plt.xlim(xmin=500)\n",
    "leg=legend(prop=dict(size=legfont),labelspacing=0.001,ncol=1,numpoints=1, loc=1)\n",
    "leg.draw_frame(False)\n",
    "#plt.yscale(\"log\")\n",
    "\n",
    "savefig(output_dir + \"pA_Ap_ratio.pdf\")"
   ]
  },
  {
   "cell_type": "markdown",
   "metadata": {
    "hidden": true
   },
   "source": [
    "For comparison yields"
   ]
  },
  {
   "cell_type": "code",
   "execution_count": null,
   "metadata": {
    "hidden": true
   },
   "outputs": [],
   "source": [
    "plt.plot(energy_xvals,pA_interpolator(energy_xvals), label=\"pA\")\n",
    "plt.plot(energy_xvals,Ap_interpolator(energy_xvals), label=\"Ap\", linestyle=Linestyle(1))\n",
    "\n",
    "plt.ylabel(\"$d\\sigma/dE$\", fontsize=legfont)\n",
    "plt.xlabel(\"$E$ $[$GeV$]$\", fontsize=legfont)\n",
    "#plt.ylim(ymax=1.2,ymin=0)\n",
    "plt.xlim(xmin=500)\n",
    "plt.ylim(ymax=10)\n",
    "leg=legend(prop=dict(size=legfont),labelspacing=0.001,ncol=1,numpoints=1, loc=1)\n",
    "leg.draw_frame(False)\n",
    "#plt.yscale(\"log\")\n"
   ]
  },
  {
   "cell_type": "markdown",
   "metadata": {
    "heading_collapsed": true
   },
   "source": [
    "# pp DPS comparisons"
   ]
  },
  {
   "cell_type": "markdown",
   "metadata": {
    "hidden": true
   },
   "source": [
    "<b>NOTE:</b> when comparing with factorized result, note that there we include only the phase space where the second jet has energy > min_energy. E.g. we start from 100 GeV E, then the factorized result at 300GeV does not contain kinematics [250,50], but the full result does. Thus, we should only trust the factorized result at energies >> low_cutoff, which in this case is:"
   ]
  },
  {
   "cell_type": "code",
   "execution_count": null,
   "metadata": {
    "hidden": true
   },
   "outputs": [],
   "source": [
    "print \"Minimum energy included in factorized DPS calculation: \" + str(energy_xvals[0])"
   ]
  },
  {
   "cell_type": "code",
   "execution_count": null,
   "metadata": {
    "hidden": true,
    "scrolled": true
   },
   "outputs": [],
   "source": [
    "pp_dps_xs = DPS_cross_section(energy_xvals, pp_interpolator, sigma_eff/mbgevsqr)\n",
    "\n",
    "    \n",
    "pp_dps_kinc_interpolator = scipy.interpolate.interp1d(energy_dps, Read_pp_DPS(datadir_dps, energy_dps), kind=\"cubic\")\n",
    "\n",
    "dps_kinc_xs = pp_dps_kinc_interpolator(energy_dps)\n",
    "\n",
    "plt.plot(energy_xvals, pp_dps_xs, label=\"Factorized\")\n",
    "plt.plot(energy_dps, dps_kinc_xs, label=\"Kin. const.\", linestyle=Linestyle(2))\n",
    "\n",
    "#plt.xlim(xmin=300,xmax=3000)\n",
    "plt.yscale(\"log\")\n",
    "\n",
    "leg=legend(prop=dict(size=legfont),labelspacing=0.001,ncol=1,numpoints=1, loc=1)\n",
    "leg.draw_frame(False)\n",
    "\n",
    "plt.ylabel(r\"$\\mathrm{d}\\sigma^{DPS}/\\mathrm{d}E$\", fontsize=legfont)\n",
    "plt.xlabel(\"$E$ $[$GeV$]$\", fontsize=legfont)\n",
    "\n",
    "plt.gcf().subplots_adjust(left=0.17)\n",
    "plt.suptitle(\"pp\")\n",
    "\n",
    "#savefig(output_dir + \"dps_pp_dpdf.pdf\")"
   ]
  },
  {
   "cell_type": "code",
   "execution_count": null,
   "metadata": {
    "hidden": true
   },
   "outputs": [],
   "source": [
    "def Plot_DPS_kinc_effect_in_pp():\n",
    "    pp_dps_interpolator = scipy.interpolate.interp1d(energy_dps, Read_pp_DPS(datadir_dps, energy_dps), kind=\"cubic\")\n",
    "    ratios=[]\n",
    "    energies=[]\n",
    "    for energy in energy_dps:\n",
    "        factxs = DPS_cross_section([energy], pp_interpolator, sigma_eff/mbgevsqr)[0] \n",
    "        if factxs > 0:\n",
    "            ratios.append( pp_dps_interpolator(energy) / factxs)\n",
    "            energies.append(energy)\n",
    "        \n",
    "    #kin_constraint_energies=[e for e,e2,fact in zip(dps_e,dps_kinc_e,dps_xs) if fact>0]\n",
    "    #factorized_pp_dps_xs = DPS_cross_section(kin_constraint_energies, pp_interpolator, sigma_eff/mbgevsqr)\n",
    "    #kin_constraint_effect=[constraint/fact for constraint,fact in zip(dps_kinc_xs, factorized_pp_dps_xs) if fact>0]\n",
    "\n",
    "    \n",
    "    plt.plot(energies,ratios,label=\"$\\mathrm{DPDF}/\\mathrm{Factoried}$\")\n",
    "    leg=legend(prop=dict(size=legfont),labelspacing=0.001,ncol=1,numpoints=1, loc=1)\n",
    "    leg.draw_frame(False)\n",
    "    suptitle(\"pp\")\n",
    "    plt.ylabel(\"Cross section ratio\", fontsize=legfont)\n",
    "    plt.xlabel(\"$E$ $[$GeV$]$\", fontsize=legfont)\n",
    "    plt.ylim(ymin=0,ymax=1.5)\n",
    "    plt.xlim(xmin=500)\n",
    "    #savefig(\"/Users/hejajama/Dropbox/nootit/castor/figs/dps_factorized_dpdf_in_pp.pdf\")\n",
    "    \n",
    "Plot_DPS_kinc_effect_in_pp()"
   ]
  },
  {
   "cell_type": "code",
   "execution_count": null,
   "metadata": {
    "hidden": true
   },
   "outputs": [],
   "source": [
    " def Plot_pp_spectra_w_wo_DPS():\n",
    "    plt.yscale('log')\n",
    "    plt.xlim(xmin=200,xmax=1200)\n",
    "    plt.ylim(ymin=1e-4, ymax=1)\n",
    "    #plt.ylim(ymin=1e-6, ymax=1e-1)\n",
    "\n",
    "    plt.xlabel(\"E [GeV]\",fontsize=legfont)\n",
    "    plt.ylabel(\"$\\mathrm{d}\\sigma/\\mathrm{d}E$ [mb/GeV]\", fontsize=legfont)\n",
    "\n",
    "\n",
    "    pp_cross_section=pp_interpolator(energy_xvals)\n",
    "\n",
    "    # Theory\n",
    "    # Add DPS\n",
    "    dps_to_pp = DPS_cross_section(energy_xvals, pp_interpolator, sigma_eff/mbgevsqr)\n",
    "    \n",
    "    #plt.plot(energy_xvals,np.array(pp_cross_section), label=\"rcBK\", linestyle=Linestyle(1))\n",
    "    plt.plot(energy_xvals,np.array(0*pp_interpolator(energy_xvals))+np.array(dps_to_pp), label=\"rcBK+DPS (fact)\")\n",
    "\n",
    "    # Add DPS with DPDF\n",
    "    totxs_w_dps = [] #np.array(pp_interpolator(dps_kinc_e) + np.array(dps_kinc_xs))\n",
    "    for e in dps_kinc_e:\n",
    "        try:\n",
    "            totxs_w_dps.append(0*pp_interpolator(e) + dps_kinc_xs[dps_kinc_e.index(e)])\n",
    "        except Exception, ee:\n",
    "            print ee, e\n",
    "            totxs_w_dps.append(0)\n",
    "    plt.plot(dps_kinc_e, totxs_w_dps, linestyle=Linestyle(2), label=\"rcBK+DPS w DPDF\")\n",
    "    \n",
    "    plt.suptitle(\"pp\", fontsize=legfont)\n",
    "\n",
    "    leg=legend(prop=dict(size=legfont),labelspacing=0.001,ncol=1,numpoints=1, loc=1)\n",
    "    leg.draw_frame(False)\n",
    "    plt.gcf().subplots_adjust(left=0.17)\n",
    "\n",
    "    #savefig(output_dir+\"pp_spectra_w_wo_dps.pdf\")\n",
    "\n",
    "Plot_pp_spectra_w_wo_DPS()"
   ]
  },
  {
   "cell_type": "code",
   "execution_count": null,
   "metadata": {
    "hidden": true
   },
   "outputs": [],
   "source": []
  },
  {
   "cell_type": "code",
   "execution_count": null,
   "metadata": {
    "hidden": true
   },
   "outputs": [],
   "source": [
    "\n",
    "\n",
    "def TestProtonDPS():\n",
    "    dps_kinc_e=[]\n",
    "    dps_kinc_xs=[]\n",
    "    Read_xy(datadir_dps + \"/pp\", dps_kinc_e, dps_kinc_xs, xcol=0, ycol=2)\n",
    "    dps_interp = scipy.interpolate.interp1d(dps_kinc_e, dps_kinc_xs, kind=\"cubic\")\n",
    "    dps_kinc_xs = dps_interp(energy_dps)\n",
    "\n",
    "    factorized_dps_xs = DPS_cross_section(energy_dps, pp_interpolator, sigma_eff/mbgevsqr)\n",
    "    dps_kinc_xs = np.array(dps_kinc_xs) * sigma02*sigma02/sigma_eff/mbgevsqr*1.0/2.0*R/(2.0*pi)/energy_bin\n",
    "\n",
    "    plt.plot(energy_dps, 0*pp_interpolator(energy_dps) + np.array(factorized_dps_xs), label=\"rcBK + DPS fact\")\n",
    "    plt.plot(energy_dps, 0*pp_interpolator(energy_dps) + np.array(dps_kinc_xs), label=\"rcBK + DPS w DPDF\")\n",
    "    \n",
    "    \n",
    "    #plt.plot(dps_e, dps_xs, label=\"MC 5e5\", linestyle=Linestyle(1))\n",
    "    #plt.plot(dps_kinc_e, dps_kinc_xs, label=\"MC 5e5 kin. const.\", linestyle=Linestyle(2))\n",
    "\n",
    "    plt.xlim(xmin=200,xmax=3000)\n",
    "    plt.yscale(\"log\")\n",
    "\n",
    "    leg=legend(prop=dict(size=legfont),labelspacing=0.001,ncol=1,numpoints=1, loc=1)\n",
    "    leg.draw_frame(False)\n",
    "\n",
    "    plt.ylabel(r\"$\\mathrm{d}\\sigma^{DPS}/\\mathrm{d}E$\", fontsize=legfont)\n",
    "    plt.xlabel(\"$E$ $[$GeV$]$\", fontsize=legfont)\n",
    "\n",
    "    plt.gcf().subplots_adjust(left=0.17)\n",
    "\n",
    "    #savefig(output_dir + \"dps_pp_dpdf.pdf\")\n",
    "TestProtonDPS()"
   ]
  },
  {
   "cell_type": "markdown",
   "metadata": {
    "heading_collapsed": true
   },
   "source": [
    "# m dependence"
   ]
  },
  {
   "cell_type": "code",
   "execution_count": null,
   "metadata": {
    "hidden": true
   },
   "outputs": [],
   "source": []
  },
  {
   "cell_type": "code",
   "execution_count": null,
   "metadata": {
    "hidden": true
   },
   "outputs": [],
   "source": [
    " def Plot_pA_spectra_mdep():\n",
    "    plt.yscale('log')\n",
    "    plt.xlim(xmin=500,xmax=2600)\n",
    "    plt.ylim(ymin=1e-3)\n",
    "\n",
    "    plt.xlabel(\"$E\\ [\\mathrm{GeV}]$\",fontsize=legfont)\n",
    "    plt.ylabel(\"$\\mathrm{d}\\sigma/\\mathrm{d}E$ $[\\mathrm{mb}/\\mathrm{GeV}]$\", fontsize=legfont)\n",
    "\n",
    "    # Exp data\n",
    "    [evals_exp, exp_spectra, binwidth, minuserr, pluserr] = ReadExpData(\"/Users/hejajama/data/castor/exp/pA_spectra_w_errors.txt\")\n",
    "    plt.errorbar(evals_exp, exp_spectra, xerr=binwidth, yerr=[minuserr,pluserr], marker=datadashes[1], \n",
    "                 linestyle='None', label=\"CMS\", color=Color(0))\n",
    "\n",
    "\n",
    "\n",
    "    pA_cross_section_smallm=pA_interpolator_smallm(energy_xvals)\n",
    "    pA_cross_section_largem=pA_interpolator_largem(energy_xvals)\n",
    "    \n",
    "    plt.plot(energy_xvals, pA_cross_section_smallm, label=\"small $m$\", linestyle=Linestyle(0), color=Color(0), linewidth=lw)\n",
    "    plt.plot(energy_xvals, pA_cross_section_largem, label=\"large $m$\", linestyle=Linestyle(1), color=Color(1), linewidth=lw)\n",
    "\n",
    "    \n",
    "\n",
    "    # Add DPS with DPDF\n",
    "    #totxs_w_dps = np.array(pA_interpolator(energy_dps)) + np.array(pA_DPS_interpolator(energy_dps))\n",
    "    #plt.plot(energy_dps, totxs_w_dps, linestyle=Linestyle(1), linewidth=lw, color=Color(1), label=\"rcBK+DPS\")\n",
    "    \n",
    "   \n",
    "    plt.suptitle(\"pA\", fontsize=legfont)\n",
    "\n",
    "    leg=legend(prop=dict(size=legfont),labelspacing=0.001,ncol=1,numpoints=1, loc=1)\n",
    "    leg.draw_frame(False)\n",
    "    plt.gcf().subplots_adjust(left=0.15)\n",
    "    plt.gcf().subplots_adjust(bottom=0.15)\n",
    "\n",
    "    #savefig(output_dir+\"pA_spectra_with_dps.pdf\")\n",
    "\n",
    "Plot_pA_spectra_mdep()"
   ]
  },
  {
   "cell_type": "code",
   "execution_count": null,
   "metadata": {
    "hidden": true
   },
   "outputs": [],
   "source": [
    " def Plot_pA_spectra_ratio_mdep():\n",
    "    #plt.yscale('log')\n",
    "    plt.xlim(xmin=500,xmax=3000)\n",
    "    #plt.ylim(ymin=1e-3)\n",
    "\n",
    "    plt.xlabel(\"$E\\ [\\mathrm{GeV}]$\",fontsize=legfont)\n",
    "    plt.ylabel(\"$\\mathrm{d}\\sigma/\\mathrm{d}E$ $\\mathrm{ratio}$\", fontsize=legfont)\n",
    "\n",
    "   \n",
    "\n",
    "    #pA_cross_section_smallm=pA_interpolator_smallm(energy_xvals)\n",
    "    pA_cross_section_largem=pA_interpolator_largem(energy_xvals)\n",
    "    \n",
    "    ratio = [large/std for large,std in zip(pA_cross_section_largem,pA_interpolator(energy_xvals))]\n",
    "    \n",
    "    plt.plot(energy_xvals, ratio, label=\"$m=1\\ \\mathrm{GeV}/m=0.2\\ \\mathrm{GeV}$\", linestyle=Linestyle(0), color=Color(0), linewidth=lw)\n",
    "    \n",
    "    \n",
    "\n",
    "    # Add DPS with DPDF\n",
    "    #totxs_w_dps = np.array(pA_interpolator(energy_dps)) + np.array(pA_DPS_interpolator(energy_dps))\n",
    "    #plt.plot(energy_dps, totxs_w_dps, linestyle=Linestyle(1), linewidth=lw, color=Color(1), label=\"rcBK+DPS\")\n",
    "    \n",
    "   \n",
    "    plt.suptitle(\"pA\", fontsize=legfont)\n",
    "\n",
    "    leg=legend(prop=dict(size=legfont),labelspacing=0.001,ncol=1,numpoints=1, loc=1)\n",
    "    leg.draw_frame(False)\n",
    "    plt.gcf().subplots_adjust(left=0.15)\n",
    "    plt.gcf().subplots_adjust(bottom=0.15)\n",
    "\n",
    "    savefig(output_dir+\"pA_spectra_mdep.pdf\")\n",
    "\n",
    "Plot_pA_spectra_ratio_mdep()"
   ]
  },
  {
   "cell_type": "markdown",
   "metadata": {},
   "source": [
    "# test"
   ]
  },
  {
   "cell_type": "code",
   "execution_count": 471,
   "metadata": {},
   "outputs": [
    {
     "data": {
      "text/plain": [
       "0.0859178798739657"
      ]
     },
     "execution_count": 471,
     "metadata": {},
     "output_type": "execute_result"
    }
   ],
   "source": [
    "A*TA(0,208)"
   ]
  },
  {
   "cell_type": "code",
   "execution_count": null,
   "metadata": {},
   "outputs": [],
   "source": []
  }
 ],
 "metadata": {
  "kernelspec": {
   "display_name": "Python 2",
   "language": "python",
   "name": "python2"
  },
  "language_info": {
   "codemirror_mode": {
    "name": "ipython",
    "version": 2
   },
   "file_extension": ".py",
   "mimetype": "text/x-python",
   "name": "python",
   "nbconvert_exporter": "python",
   "pygments_lexer": "ipython2",
   "version": "2.7.15"
  }
 },
 "nbformat": 4,
 "nbformat_minor": 2
}
